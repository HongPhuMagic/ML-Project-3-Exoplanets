{
 "cells": [
  {
   "cell_type": "markdown",
   "metadata": {},
   "source": [
    "# Exoplanets: identification project"
   ]
  },
  {
   "cell_type": "markdown",
   "metadata": {},
   "source": [
    "The goal for this project:\n",
    "* Classify exoplanets, earth-size and smaller planet within the habitable zone, candidates obtained by the Kepler telescope\n",
    "* Apply classification machine learning algorithms;\n",
    "    * Logisitc Regression\n",
    "    * KNN\n",
    "    * Decision Tree\n",
    "    * Random Foresting\n",
    "    * SVM"
   ]
  },
  {
   "cell_type": "markdown",
   "metadata": {},
   "source": [
    "# Background \n",
    "\n",
    "The Kepler Mission, a NASA Discovery mission launched on March 6, 2009, was the first space mission dedicated to the search for Earth-sized and smaller planets in the habitable zone of other stars in our neighborhood of the galaxy. Kepler was a special-purpose spacecraft that precisely measured the light variations from thousands of distant stars, looking for planetary transits. When a planet passes in front of its parent star, as seen from our solar system, it blocks a small fraction of the light from that star; this is known as a transit. Searching for transits of distant Earths is like looking for the drop in brightness when a moth flies across a searchlight. Measuring repeated transits, all with a regular period, duration and change in brightness, provides a method for discovering planets and measuring the duration of their orbits—planets the size of Earth and smaller in the habitable zone around other stars similar to our Sun. Kepler continuously monitored over 100,000 stars similar to our Sun for brightness changes produced by planetary transits.\n",
    "\n",
    "The Kepler Mission came to an end after four years when two of the four reaction wheels, used to point the spacecraft, ceased to function. The Kepler Mission was reborn as the K2 Mission, which ran for an additional five years.\n"
   ]
  },
  {
   "cell_type": "markdown",
   "metadata": {},
   "source": [
    "This dataset was obtained by [California Institute of Technology (Caltech)](https://exoplanetarchive.ipac.caltech.edu/index.html) which hosted NASA's exoplant Archive. \n",
    "This dataset has the most accurate and updated dispositions and stellar and planetary information. "
   ]
  },
  {
   "cell_type": "markdown",
   "metadata": {},
   "source": [
    "# Dataset"
   ]
  },
  {
   "cell_type": "markdown",
   "metadata": {},
   "source": [
    "Please view [Caltech documentation](https://exoplanetarchive.ipac.caltech.edu/docs/API_kepcandidate_columns.html) page to understand what each column/feature entails. "
   ]
  },
  {
   "cell_type": "markdown",
   "metadata": {},
   "source": [
    "The dataset will contain the original Keplar telescope observations. The target label will be either 'CONFIRMED' if the exoplanets has been identified as a earth-size and smaller planet within the habitable zone and 'FALSE POSITIVE' otherwise. The dataset will also contain 'CANDIDATE' if the observation in question is a potential candidate which will be used at the end to see if my final model can classify the candidates as 'CONFIRMED'.  "
   ]
  },
  {
   "cell_type": "code",
   "execution_count": 124,
   "metadata": {},
   "outputs": [],
   "source": [
    "# Import necesssary libraries\n",
    "import pandas as pd\n",
    "import numpy as np\n",
    "import matplotlib.pyplot as plt\n",
    "import seaborn as sns\n",
    "%matplotlib inline\n",
    "\n",
    "# Import to scale data\n",
    "from sklearn.preprocessing import StandardScaler\n",
    "\n",
    "# Import to perform PCA\n",
    "from sklearn.decomposition import PCA\n",
    "\n",
    "# Importing all of the models I plan to use\n",
    "from sklearn.model_selection import cross_val_score\n",
    "from sklearn.linear_model import LogisticRegression\n",
    "from sklearn.neighbors import KNeighborsClassifier\n",
    "from sklearn.tree import DecisionTreeClassifier\n",
    "from sklearn.ensemble import RandomForestClassifier\n",
    "from sklearn.svm import SVC\n",
    "\n",
    "# Importing pipeline\n",
    "from sklearn.pipeline import Pipeline\n",
    "\n",
    "# Importing the dataset\n",
    "kepler = pd.read_csv('cumulative_2020.08.31_09.15.50.csv')"
   ]
  },
  {
   "cell_type": "code",
   "execution_count": 125,
   "metadata": {},
   "outputs": [
    {
     "data": {
      "text/html": [
       "<div>\n",
       "<style scoped>\n",
       "    .dataframe tbody tr th:only-of-type {\n",
       "        vertical-align: middle;\n",
       "    }\n",
       "\n",
       "    .dataframe tbody tr th {\n",
       "        vertical-align: top;\n",
       "    }\n",
       "\n",
       "    .dataframe thead th {\n",
       "        text-align: right;\n",
       "    }\n",
       "</style>\n",
       "<table border=\"1\" class=\"dataframe\">\n",
       "  <thead>\n",
       "    <tr style=\"text-align: right;\">\n",
       "      <th></th>\n",
       "      <th>kepid</th>\n",
       "      <th>kepoi_name</th>\n",
       "      <th>kepler_name</th>\n",
       "      <th>koi_disposition</th>\n",
       "      <th>koi_pdisposition</th>\n",
       "      <th>koi_score</th>\n",
       "      <th>koi_fpflag_nt</th>\n",
       "      <th>koi_fpflag_ss</th>\n",
       "      <th>koi_fpflag_co</th>\n",
       "      <th>koi_fpflag_ec</th>\n",
       "      <th>...</th>\n",
       "      <th>koi_steff_err2</th>\n",
       "      <th>koi_slogg</th>\n",
       "      <th>koi_slogg_err1</th>\n",
       "      <th>koi_slogg_err2</th>\n",
       "      <th>koi_srad</th>\n",
       "      <th>koi_srad_err1</th>\n",
       "      <th>koi_srad_err2</th>\n",
       "      <th>ra</th>\n",
       "      <th>dec</th>\n",
       "      <th>koi_kepmag</th>\n",
       "    </tr>\n",
       "  </thead>\n",
       "  <tbody>\n",
       "    <tr>\n",
       "      <th>0</th>\n",
       "      <td>10797460</td>\n",
       "      <td>K00752.01</td>\n",
       "      <td>Kepler-227 b</td>\n",
       "      <td>CONFIRMED</td>\n",
       "      <td>CANDIDATE</td>\n",
       "      <td>1.000</td>\n",
       "      <td>0</td>\n",
       "      <td>0</td>\n",
       "      <td>0</td>\n",
       "      <td>0</td>\n",
       "      <td>...</td>\n",
       "      <td>-81.0</td>\n",
       "      <td>4.467</td>\n",
       "      <td>0.064</td>\n",
       "      <td>-0.096</td>\n",
       "      <td>0.927</td>\n",
       "      <td>0.105</td>\n",
       "      <td>-0.061</td>\n",
       "      <td>291.93423</td>\n",
       "      <td>48.141651</td>\n",
       "      <td>15.347</td>\n",
       "    </tr>\n",
       "    <tr>\n",
       "      <th>1</th>\n",
       "      <td>10797460</td>\n",
       "      <td>K00752.02</td>\n",
       "      <td>Kepler-227 c</td>\n",
       "      <td>CONFIRMED</td>\n",
       "      <td>CANDIDATE</td>\n",
       "      <td>0.969</td>\n",
       "      <td>0</td>\n",
       "      <td>0</td>\n",
       "      <td>0</td>\n",
       "      <td>0</td>\n",
       "      <td>...</td>\n",
       "      <td>-81.0</td>\n",
       "      <td>4.467</td>\n",
       "      <td>0.064</td>\n",
       "      <td>-0.096</td>\n",
       "      <td>0.927</td>\n",
       "      <td>0.105</td>\n",
       "      <td>-0.061</td>\n",
       "      <td>291.93423</td>\n",
       "      <td>48.141651</td>\n",
       "      <td>15.347</td>\n",
       "    </tr>\n",
       "    <tr>\n",
       "      <th>2</th>\n",
       "      <td>10811496</td>\n",
       "      <td>K00753.01</td>\n",
       "      <td>NaN</td>\n",
       "      <td>CANDIDATE</td>\n",
       "      <td>CANDIDATE</td>\n",
       "      <td>0.000</td>\n",
       "      <td>0</td>\n",
       "      <td>0</td>\n",
       "      <td>0</td>\n",
       "      <td>0</td>\n",
       "      <td>...</td>\n",
       "      <td>-176.0</td>\n",
       "      <td>4.544</td>\n",
       "      <td>0.044</td>\n",
       "      <td>-0.176</td>\n",
       "      <td>0.868</td>\n",
       "      <td>0.233</td>\n",
       "      <td>-0.078</td>\n",
       "      <td>297.00482</td>\n",
       "      <td>48.134129</td>\n",
       "      <td>15.436</td>\n",
       "    </tr>\n",
       "    <tr>\n",
       "      <th>3</th>\n",
       "      <td>10848459</td>\n",
       "      <td>K00754.01</td>\n",
       "      <td>NaN</td>\n",
       "      <td>FALSE POSITIVE</td>\n",
       "      <td>FALSE POSITIVE</td>\n",
       "      <td>0.000</td>\n",
       "      <td>0</td>\n",
       "      <td>1</td>\n",
       "      <td>0</td>\n",
       "      <td>0</td>\n",
       "      <td>...</td>\n",
       "      <td>-174.0</td>\n",
       "      <td>4.564</td>\n",
       "      <td>0.053</td>\n",
       "      <td>-0.168</td>\n",
       "      <td>0.791</td>\n",
       "      <td>0.201</td>\n",
       "      <td>-0.067</td>\n",
       "      <td>285.53461</td>\n",
       "      <td>48.285210</td>\n",
       "      <td>15.597</td>\n",
       "    </tr>\n",
       "    <tr>\n",
       "      <th>4</th>\n",
       "      <td>10854555</td>\n",
       "      <td>K00755.01</td>\n",
       "      <td>Kepler-664 b</td>\n",
       "      <td>CONFIRMED</td>\n",
       "      <td>CANDIDATE</td>\n",
       "      <td>1.000</td>\n",
       "      <td>0</td>\n",
       "      <td>0</td>\n",
       "      <td>0</td>\n",
       "      <td>0</td>\n",
       "      <td>...</td>\n",
       "      <td>-211.0</td>\n",
       "      <td>4.438</td>\n",
       "      <td>0.070</td>\n",
       "      <td>-0.210</td>\n",
       "      <td>1.046</td>\n",
       "      <td>0.334</td>\n",
       "      <td>-0.133</td>\n",
       "      <td>288.75488</td>\n",
       "      <td>48.226200</td>\n",
       "      <td>15.509</td>\n",
       "    </tr>\n",
       "  </tbody>\n",
       "</table>\n",
       "<p>5 rows × 49 columns</p>\n",
       "</div>"
      ],
      "text/plain": [
       "      kepid kepoi_name   kepler_name koi_disposition koi_pdisposition  \\\n",
       "0  10797460  K00752.01  Kepler-227 b       CONFIRMED        CANDIDATE   \n",
       "1  10797460  K00752.02  Kepler-227 c       CONFIRMED        CANDIDATE   \n",
       "2  10811496  K00753.01           NaN       CANDIDATE        CANDIDATE   \n",
       "3  10848459  K00754.01           NaN  FALSE POSITIVE   FALSE POSITIVE   \n",
       "4  10854555  K00755.01  Kepler-664 b       CONFIRMED        CANDIDATE   \n",
       "\n",
       "   koi_score  koi_fpflag_nt  koi_fpflag_ss  koi_fpflag_co  koi_fpflag_ec  ...  \\\n",
       "0      1.000              0              0              0              0  ...   \n",
       "1      0.969              0              0              0              0  ...   \n",
       "2      0.000              0              0              0              0  ...   \n",
       "3      0.000              0              1              0              0  ...   \n",
       "4      1.000              0              0              0              0  ...   \n",
       "\n",
       "   koi_steff_err2  koi_slogg  koi_slogg_err1  koi_slogg_err2  koi_srad  \\\n",
       "0           -81.0      4.467           0.064          -0.096     0.927   \n",
       "1           -81.0      4.467           0.064          -0.096     0.927   \n",
       "2          -176.0      4.544           0.044          -0.176     0.868   \n",
       "3          -174.0      4.564           0.053          -0.168     0.791   \n",
       "4          -211.0      4.438           0.070          -0.210     1.046   \n",
       "\n",
       "   koi_srad_err1  koi_srad_err2         ra        dec  koi_kepmag  \n",
       "0          0.105         -0.061  291.93423  48.141651      15.347  \n",
       "1          0.105         -0.061  291.93423  48.141651      15.347  \n",
       "2          0.233         -0.078  297.00482  48.134129      15.436  \n",
       "3          0.201         -0.067  285.53461  48.285210      15.597  \n",
       "4          0.334         -0.133  288.75488  48.226200      15.509  \n",
       "\n",
       "[5 rows x 49 columns]"
      ]
     },
     "execution_count": 125,
     "metadata": {},
     "output_type": "execute_result"
    }
   ],
   "source": [
    "# Looking for the features/columns\n",
    "kepler.head()"
   ]
  },
  {
   "cell_type": "code",
   "execution_count": 51,
   "metadata": {},
   "outputs": [
    {
     "name": "stdout",
     "output_type": "stream",
     "text": [
      "<class 'pandas.core.frame.DataFrame'>\n",
      "RangeIndex: 9564 entries, 0 to 9563\n",
      "Data columns (total 49 columns):\n",
      " #   Column             Non-Null Count  Dtype  \n",
      "---  ------             --------------  -----  \n",
      " 0   kepid              9564 non-null   int64  \n",
      " 1   kepoi_name         9564 non-null   object \n",
      " 2   kepler_name        2308 non-null   object \n",
      " 3   koi_disposition    9564 non-null   object \n",
      " 4   koi_pdisposition   9564 non-null   object \n",
      " 5   koi_score          8054 non-null   float64\n",
      " 6   koi_fpflag_nt      9564 non-null   int64  \n",
      " 7   koi_fpflag_ss      9564 non-null   int64  \n",
      " 8   koi_fpflag_co      9564 non-null   int64  \n",
      " 9   koi_fpflag_ec      9564 non-null   int64  \n",
      " 10  koi_period         9564 non-null   float64\n",
      " 11  koi_period_err1    9110 non-null   float64\n",
      " 12  koi_period_err2    9110 non-null   float64\n",
      " 13  koi_time0bk        9564 non-null   float64\n",
      " 14  koi_time0bk_err1   9110 non-null   float64\n",
      " 15  koi_time0bk_err2   9110 non-null   float64\n",
      " 16  koi_impact         9201 non-null   float64\n",
      " 17  koi_impact_err1    9110 non-null   float64\n",
      " 18  koi_impact_err2    9110 non-null   float64\n",
      " 19  koi_duration       9564 non-null   float64\n",
      " 20  koi_duration_err1  9110 non-null   float64\n",
      " 21  koi_duration_err2  9110 non-null   float64\n",
      " 22  koi_depth          9201 non-null   float64\n",
      " 23  koi_depth_err1     9110 non-null   float64\n",
      " 24  koi_depth_err2     9110 non-null   float64\n",
      " 25  koi_prad           9201 non-null   float64\n",
      " 26  koi_prad_err1      9201 non-null   float64\n",
      " 27  koi_prad_err2      9201 non-null   float64\n",
      " 28  koi_teq            9201 non-null   float64\n",
      " 29  koi_teq_err1       0 non-null      float64\n",
      " 30  koi_teq_err2       0 non-null      float64\n",
      " 31  koi_insol          9243 non-null   float64\n",
      " 32  koi_insol_err1     9243 non-null   float64\n",
      " 33  koi_insol_err2     9243 non-null   float64\n",
      " 34  koi_model_snr      9201 non-null   float64\n",
      " 35  koi_tce_plnt_num   9218 non-null   float64\n",
      " 36  koi_tce_delivname  9218 non-null   object \n",
      " 37  koi_steff          9201 non-null   float64\n",
      " 38  koi_steff_err1     9096 non-null   float64\n",
      " 39  koi_steff_err2     9081 non-null   float64\n",
      " 40  koi_slogg          9201 non-null   float64\n",
      " 41  koi_slogg_err1     9096 non-null   float64\n",
      " 42  koi_slogg_err2     9096 non-null   float64\n",
      " 43  koi_srad           9201 non-null   float64\n",
      " 44  koi_srad_err1      9096 non-null   float64\n",
      " 45  koi_srad_err2      9096 non-null   float64\n",
      " 46  ra                 9564 non-null   float64\n",
      " 47  dec                9564 non-null   float64\n",
      " 48  koi_kepmag         9563 non-null   float64\n",
      "dtypes: float64(39), int64(5), object(5)\n",
      "memory usage: 3.6+ MB\n"
     ]
    }
   ],
   "source": [
    "# Obtaining information \n",
    "kepler.info()"
   ]
  },
  {
   "cell_type": "markdown",
   "metadata": {},
   "source": [
    "Looks like there are expected data type which means there's no need to change them. "
   ]
  },
  {
   "cell_type": "code",
   "execution_count": 5,
   "metadata": {},
   "outputs": [
    {
     "data": {
      "text/html": [
       "<div>\n",
       "<style scoped>\n",
       "    .dataframe tbody tr th:only-of-type {\n",
       "        vertical-align: middle;\n",
       "    }\n",
       "\n",
       "    .dataframe tbody tr th {\n",
       "        vertical-align: top;\n",
       "    }\n",
       "\n",
       "    .dataframe thead th {\n",
       "        text-align: right;\n",
       "    }\n",
       "</style>\n",
       "<table border=\"1\" class=\"dataframe\">\n",
       "  <thead>\n",
       "    <tr style=\"text-align: right;\">\n",
       "      <th></th>\n",
       "      <th>kepid</th>\n",
       "      <th>koi_score</th>\n",
       "      <th>koi_fpflag_nt</th>\n",
       "      <th>koi_fpflag_ss</th>\n",
       "      <th>koi_fpflag_co</th>\n",
       "      <th>koi_fpflag_ec</th>\n",
       "      <th>koi_period</th>\n",
       "      <th>koi_period_err1</th>\n",
       "      <th>koi_period_err2</th>\n",
       "      <th>koi_time0bk</th>\n",
       "      <th>...</th>\n",
       "      <th>koi_steff_err2</th>\n",
       "      <th>koi_slogg</th>\n",
       "      <th>koi_slogg_err1</th>\n",
       "      <th>koi_slogg_err2</th>\n",
       "      <th>koi_srad</th>\n",
       "      <th>koi_srad_err1</th>\n",
       "      <th>koi_srad_err2</th>\n",
       "      <th>ra</th>\n",
       "      <th>dec</th>\n",
       "      <th>koi_kepmag</th>\n",
       "    </tr>\n",
       "  </thead>\n",
       "  <tbody>\n",
       "    <tr>\n",
       "      <th>count</th>\n",
       "      <td>9.564000e+03</td>\n",
       "      <td>8054.000000</td>\n",
       "      <td>9564.000000</td>\n",
       "      <td>9564.000000</td>\n",
       "      <td>9564.000000</td>\n",
       "      <td>9564.000000</td>\n",
       "      <td>9564.000000</td>\n",
       "      <td>9110.000000</td>\n",
       "      <td>9110.000000</td>\n",
       "      <td>9564.000000</td>\n",
       "      <td>...</td>\n",
       "      <td>9081.000000</td>\n",
       "      <td>9201.000000</td>\n",
       "      <td>9096.000000</td>\n",
       "      <td>9096.000000</td>\n",
       "      <td>9201.000000</td>\n",
       "      <td>9096.000000</td>\n",
       "      <td>9096.000000</td>\n",
       "      <td>9564.000000</td>\n",
       "      <td>9564.000000</td>\n",
       "      <td>9563.000000</td>\n",
       "    </tr>\n",
       "    <tr>\n",
       "      <th>mean</th>\n",
       "      <td>7.690628e+06</td>\n",
       "      <td>0.480829</td>\n",
       "      <td>0.208595</td>\n",
       "      <td>0.232748</td>\n",
       "      <td>0.197512</td>\n",
       "      <td>0.120033</td>\n",
       "      <td>75.671358</td>\n",
       "      <td>0.002148</td>\n",
       "      <td>-0.002148</td>\n",
       "      <td>166.183251</td>\n",
       "      <td>...</td>\n",
       "      <td>-162.265059</td>\n",
       "      <td>4.310157</td>\n",
       "      <td>0.120738</td>\n",
       "      <td>-0.143161</td>\n",
       "      <td>1.728712</td>\n",
       "      <td>0.362292</td>\n",
       "      <td>-0.394806</td>\n",
       "      <td>292.060163</td>\n",
       "      <td>43.810433</td>\n",
       "      <td>14.264606</td>\n",
       "    </tr>\n",
       "    <tr>\n",
       "      <th>std</th>\n",
       "      <td>2.653459e+06</td>\n",
       "      <td>0.476928</td>\n",
       "      <td>4.767290</td>\n",
       "      <td>0.422605</td>\n",
       "      <td>0.398142</td>\n",
       "      <td>0.325018</td>\n",
       "      <td>1334.744046</td>\n",
       "      <td>0.008243</td>\n",
       "      <td>0.008243</td>\n",
       "      <td>67.918960</td>\n",
       "      <td>...</td>\n",
       "      <td>72.746348</td>\n",
       "      <td>0.432606</td>\n",
       "      <td>0.132837</td>\n",
       "      <td>0.085477</td>\n",
       "      <td>6.127185</td>\n",
       "      <td>0.930870</td>\n",
       "      <td>2.168213</td>\n",
       "      <td>4.766657</td>\n",
       "      <td>3.601243</td>\n",
       "      <td>1.385448</td>\n",
       "    </tr>\n",
       "    <tr>\n",
       "      <th>min</th>\n",
       "      <td>7.574500e+05</td>\n",
       "      <td>0.000000</td>\n",
       "      <td>0.000000</td>\n",
       "      <td>0.000000</td>\n",
       "      <td>0.000000</td>\n",
       "      <td>0.000000</td>\n",
       "      <td>0.241843</td>\n",
       "      <td>0.000000</td>\n",
       "      <td>-0.173000</td>\n",
       "      <td>120.515914</td>\n",
       "      <td>...</td>\n",
       "      <td>-1762.000000</td>\n",
       "      <td>0.047000</td>\n",
       "      <td>0.000000</td>\n",
       "      <td>-1.207000</td>\n",
       "      <td>0.109000</td>\n",
       "      <td>0.000000</td>\n",
       "      <td>-116.137000</td>\n",
       "      <td>279.852720</td>\n",
       "      <td>36.577381</td>\n",
       "      <td>6.966000</td>\n",
       "    </tr>\n",
       "    <tr>\n",
       "      <th>25%</th>\n",
       "      <td>5.556034e+06</td>\n",
       "      <td>0.000000</td>\n",
       "      <td>0.000000</td>\n",
       "      <td>0.000000</td>\n",
       "      <td>0.000000</td>\n",
       "      <td>0.000000</td>\n",
       "      <td>2.733684</td>\n",
       "      <td>0.000005</td>\n",
       "      <td>-0.000276</td>\n",
       "      <td>132.761718</td>\n",
       "      <td>...</td>\n",
       "      <td>-198.000000</td>\n",
       "      <td>4.218000</td>\n",
       "      <td>0.042000</td>\n",
       "      <td>-0.196000</td>\n",
       "      <td>0.829000</td>\n",
       "      <td>0.129000</td>\n",
       "      <td>-0.250000</td>\n",
       "      <td>288.660770</td>\n",
       "      <td>40.777173</td>\n",
       "      <td>13.440000</td>\n",
       "    </tr>\n",
       "    <tr>\n",
       "      <th>50%</th>\n",
       "      <td>7.906892e+06</td>\n",
       "      <td>0.334000</td>\n",
       "      <td>0.000000</td>\n",
       "      <td>0.000000</td>\n",
       "      <td>0.000000</td>\n",
       "      <td>0.000000</td>\n",
       "      <td>9.752831</td>\n",
       "      <td>0.000035</td>\n",
       "      <td>-0.000035</td>\n",
       "      <td>137.224595</td>\n",
       "      <td>...</td>\n",
       "      <td>-160.000000</td>\n",
       "      <td>4.438000</td>\n",
       "      <td>0.070000</td>\n",
       "      <td>-0.128000</td>\n",
       "      <td>1.000000</td>\n",
       "      <td>0.251000</td>\n",
       "      <td>-0.111000</td>\n",
       "      <td>292.261125</td>\n",
       "      <td>43.677504</td>\n",
       "      <td>14.520000</td>\n",
       "    </tr>\n",
       "    <tr>\n",
       "      <th>75%</th>\n",
       "      <td>9.873066e+06</td>\n",
       "      <td>0.998000</td>\n",
       "      <td>0.000000</td>\n",
       "      <td>0.000000</td>\n",
       "      <td>0.000000</td>\n",
       "      <td>0.000000</td>\n",
       "      <td>40.715178</td>\n",
       "      <td>0.000276</td>\n",
       "      <td>-0.000005</td>\n",
       "      <td>170.694603</td>\n",
       "      <td>...</td>\n",
       "      <td>-114.000000</td>\n",
       "      <td>4.543000</td>\n",
       "      <td>0.149000</td>\n",
       "      <td>-0.088000</td>\n",
       "      <td>1.345000</td>\n",
       "      <td>0.364000</td>\n",
       "      <td>-0.069000</td>\n",
       "      <td>295.859160</td>\n",
       "      <td>46.714611</td>\n",
       "      <td>15.322000</td>\n",
       "    </tr>\n",
       "    <tr>\n",
       "      <th>max</th>\n",
       "      <td>1.293514e+07</td>\n",
       "      <td>1.000000</td>\n",
       "      <td>465.000000</td>\n",
       "      <td>1.000000</td>\n",
       "      <td>1.000000</td>\n",
       "      <td>1.000000</td>\n",
       "      <td>129995.778400</td>\n",
       "      <td>0.173000</td>\n",
       "      <td>0.000000</td>\n",
       "      <td>1472.522306</td>\n",
       "      <td>...</td>\n",
       "      <td>0.000000</td>\n",
       "      <td>5.364000</td>\n",
       "      <td>1.472000</td>\n",
       "      <td>0.000000</td>\n",
       "      <td>229.908000</td>\n",
       "      <td>33.091000</td>\n",
       "      <td>0.000000</td>\n",
       "      <td>301.720760</td>\n",
       "      <td>52.336010</td>\n",
       "      <td>20.003000</td>\n",
       "    </tr>\n",
       "  </tbody>\n",
       "</table>\n",
       "<p>8 rows × 44 columns</p>\n",
       "</div>"
      ],
      "text/plain": [
       "              kepid    koi_score  koi_fpflag_nt  koi_fpflag_ss  koi_fpflag_co  \\\n",
       "count  9.564000e+03  8054.000000    9564.000000    9564.000000    9564.000000   \n",
       "mean   7.690628e+06     0.480829       0.208595       0.232748       0.197512   \n",
       "std    2.653459e+06     0.476928       4.767290       0.422605       0.398142   \n",
       "min    7.574500e+05     0.000000       0.000000       0.000000       0.000000   \n",
       "25%    5.556034e+06     0.000000       0.000000       0.000000       0.000000   \n",
       "50%    7.906892e+06     0.334000       0.000000       0.000000       0.000000   \n",
       "75%    9.873066e+06     0.998000       0.000000       0.000000       0.000000   \n",
       "max    1.293514e+07     1.000000     465.000000       1.000000       1.000000   \n",
       "\n",
       "       koi_fpflag_ec     koi_period  koi_period_err1  koi_period_err2  \\\n",
       "count    9564.000000    9564.000000      9110.000000      9110.000000   \n",
       "mean        0.120033      75.671358         0.002148        -0.002148   \n",
       "std         0.325018    1334.744046         0.008243         0.008243   \n",
       "min         0.000000       0.241843         0.000000        -0.173000   \n",
       "25%         0.000000       2.733684         0.000005        -0.000276   \n",
       "50%         0.000000       9.752831         0.000035        -0.000035   \n",
       "75%         0.000000      40.715178         0.000276        -0.000005   \n",
       "max         1.000000  129995.778400         0.173000         0.000000   \n",
       "\n",
       "       koi_time0bk  ...  koi_steff_err2    koi_slogg  koi_slogg_err1  \\\n",
       "count  9564.000000  ...     9081.000000  9201.000000     9096.000000   \n",
       "mean    166.183251  ...     -162.265059     4.310157        0.120738   \n",
       "std      67.918960  ...       72.746348     0.432606        0.132837   \n",
       "min     120.515914  ...    -1762.000000     0.047000        0.000000   \n",
       "25%     132.761718  ...     -198.000000     4.218000        0.042000   \n",
       "50%     137.224595  ...     -160.000000     4.438000        0.070000   \n",
       "75%     170.694603  ...     -114.000000     4.543000        0.149000   \n",
       "max    1472.522306  ...        0.000000     5.364000        1.472000   \n",
       "\n",
       "       koi_slogg_err2     koi_srad  koi_srad_err1  koi_srad_err2           ra  \\\n",
       "count     9096.000000  9201.000000    9096.000000    9096.000000  9564.000000   \n",
       "mean        -0.143161     1.728712       0.362292      -0.394806   292.060163   \n",
       "std          0.085477     6.127185       0.930870       2.168213     4.766657   \n",
       "min         -1.207000     0.109000       0.000000    -116.137000   279.852720   \n",
       "25%         -0.196000     0.829000       0.129000      -0.250000   288.660770   \n",
       "50%         -0.128000     1.000000       0.251000      -0.111000   292.261125   \n",
       "75%         -0.088000     1.345000       0.364000      -0.069000   295.859160   \n",
       "max          0.000000   229.908000      33.091000       0.000000   301.720760   \n",
       "\n",
       "               dec   koi_kepmag  \n",
       "count  9564.000000  9563.000000  \n",
       "mean     43.810433    14.264606  \n",
       "std       3.601243     1.385448  \n",
       "min      36.577381     6.966000  \n",
       "25%      40.777173    13.440000  \n",
       "50%      43.677504    14.520000  \n",
       "75%      46.714611    15.322000  \n",
       "max      52.336010    20.003000  \n",
       "\n",
       "[8 rows x 44 columns]"
      ]
     },
     "execution_count": 5,
     "metadata": {},
     "output_type": "execute_result"
    }
   ],
   "source": [
    "# Obtaining statistical information\n",
    "kepler.describe()"
   ]
  },
  {
   "cell_type": "markdown",
   "metadata": {},
   "source": [
    "There are 44 differnet columns and I currently lack domain knowledge. Each of these columns could arugably be an important predictor and requires domain knowledge to determine what range of values are expected (the mean for each predictor variable for the 'CONFIRMED' target label could theoretically give us values to expect). Interepreting 44 of these predictor statistical data is highly unlikely to be of any use with my lack of domain knowledge, I will assume that each of these features are important. Some of these predictors are standard deviations for measured features reported by Kepler."
   ]
  },
  {
   "cell_type": "markdown",
   "metadata": {},
   "source": [
    "# EDA"
   ]
  },
  {
   "cell_type": "code",
   "execution_count": 6,
   "metadata": {},
   "outputs": [
    {
     "data": {
      "text/plain": [
       "<matplotlib.axes._subplots.AxesSubplot at 0x17a66aa73c8>"
      ]
     },
     "execution_count": 6,
     "metadata": {},
     "output_type": "execute_result"
    },
    {
     "data": {
      "image/png": "[encoded data removed]",
      "text/plain": [
       "<Figure size 1440x720 with 2 Axes>"
      ]
     },
     "metadata": {
      "needs_background": "light"
     },
     "output_type": "display_data"
    }
   ],
   "source": [
    "# Setting the plot size\n",
    "plt.subplots(figsize=(20,10))\n",
    "\n",
    "# Create heatmap of missing data\n",
    "sns.heatmap(data=kepler.isnull(), cmap='viridis')"
   ]
  },
  {
   "cell_type": "code",
   "execution_count": 7,
   "metadata": {},
   "outputs": [
    {
     "data": {
      "text/plain": [
       "0.04746967795901297"
      ]
     },
     "execution_count": 7,
     "metadata": {},
     "output_type": "execute_result"
    }
   ],
   "source": [
    "# Get percentage of missing data \n",
    "kepler['koi_period_err1'].isnull().mean()"
   ]
  },
  {
   "cell_type": "markdown",
   "metadata": {},
   "source": [
    "Looks like the main features(non-errors) are all roughly missing about 5% data. I will impute the NaN values dependent on case-by-case. "
   ]
  },
  {
   "cell_type": "markdown",
   "metadata": {},
   "source": [
    "### Data distributions"
   ]
  },
  {
   "cell_type": "markdown",
   "metadata": {},
   "source": [
    "Some features are in pairs, I'll take a look at one of the missing feature pairs to generalize the data distributions."
   ]
  },
  {
   "cell_type": "code",
   "execution_count": 48,
   "metadata": {},
   "outputs": [
    {
     "data": {
      "text/plain": [
       "<matplotlib.axes._subplots.AxesSubplot at 0x26f92f8b108>"
      ]
     },
     "execution_count": 48,
     "metadata": {},
     "output_type": "execute_result"
    },
    {
     "data": {
      "image/png": "[encoded data removed]",
      "text/plain": [
       "<Figure size 432x288 with 1 Axes>"
      ]
     },
     "metadata": {
      "needs_background": "light"
     },
     "output_type": "display_data"
    }
   ],
   "source": [
    "sns.distplot(kepler['koi_period_err2'], bins=50)"
   ]
  },
  {
   "cell_type": "code",
   "execution_count": 63,
   "metadata": {},
   "outputs": [
    {
     "data": {
      "text/plain": [
       "<matplotlib.axes._subplots.AxesSubplot at 0x26f95eb4c48>"
      ]
     },
     "execution_count": 63,
     "metadata": {},
     "output_type": "execute_result"
    },
    {
     "data": {
      "image/png": "[encoded data removed]",
      "text/plain": [
       "<Figure size 432x288 with 1 Axes>"
      ]
     },
     "metadata": {
      "needs_background": "light"
     },
     "output_type": "display_data"
    }
   ],
   "source": [
    "sns.distplot(kepler['koi_time0bk_err1'], bins=50)"
   ]
  },
  {
   "cell_type": "code",
   "execution_count": 64,
   "metadata": {},
   "outputs": [
    {
     "data": {
      "text/plain": [
       "<matplotlib.axes._subplots.AxesSubplot at 0x26f95fb6448>"
      ]
     },
     "execution_count": 64,
     "metadata": {},
     "output_type": "execute_result"
    },
    {
     "data": {
      "image/png": "[encoded data removed]",
      "text/plain": [
       "<Figure size 432x288 with 1 Axes>"
      ]
     },
     "metadata": {
      "needs_background": "light"
     },
     "output_type": "display_data"
    }
   ],
   "source": [
    "sns.distplot(kepler['koi_impact'], bins=50)"
   ]
  },
  {
   "cell_type": "code",
   "execution_count": 65,
   "metadata": {},
   "outputs": [
    {
     "data": {
      "text/plain": [
       "<matplotlib.axes._subplots.AxesSubplot at 0x26f960917c8>"
      ]
     },
     "execution_count": 65,
     "metadata": {},
     "output_type": "execute_result"
    },
    {
     "data": {
      "image/png": "[encoded data removed]",
      "text/plain": [
       "<Figure size 432x288 with 1 Axes>"
      ]
     },
     "metadata": {
      "needs_background": "light"
     },
     "output_type": "display_data"
    }
   ],
   "source": [
    "sns.distplot(kepler['koi_impact_err2'], bins=50)"
   ]
  },
  {
   "cell_type": "code",
   "execution_count": 67,
   "metadata": {},
   "outputs": [
    {
     "data": {
      "text/plain": [
       "<matplotlib.axes._subplots.AxesSubplot at 0x26f9605a6c8>"
      ]
     },
     "execution_count": 67,
     "metadata": {},
     "output_type": "execute_result"
    },
    {
     "data": {
      "image/png": "[encoded data removed]",
      "text/plain": [
       "<Figure size 432x288 with 1 Axes>"
      ]
     },
     "metadata": {
      "needs_background": "light"
     },
     "output_type": "display_data"
    }
   ],
   "source": [
    "sns.distplot(kepler['koi_duration_err1'], bins=50)"
   ]
  },
  {
   "cell_type": "code",
   "execution_count": 68,
   "metadata": {},
   "outputs": [
    {
     "data": {
      "text/plain": [
       "<matplotlib.axes._subplots.AxesSubplot at 0x26f9629cfc8>"
      ]
     },
     "execution_count": 68,
     "metadata": {},
     "output_type": "execute_result"
    },
    {
     "data": {
      "image/png": "[encoded data removed]",
      "text/plain": [
       "<Figure size 432x288 with 1 Axes>"
      ]
     },
     "metadata": {
      "needs_background": "light"
     },
     "output_type": "display_data"
    }
   ],
   "source": [
    "sns.distplot(kepler['koi_depth'], bins=50)"
   ]
  },
  {
   "cell_type": "code",
   "execution_count": 69,
   "metadata": {},
   "outputs": [
    {
     "data": {
      "text/plain": [
       "<matplotlib.axes._subplots.AxesSubplot at 0x26f96398f48>"
      ]
     },
     "execution_count": 69,
     "metadata": {},
     "output_type": "execute_result"
    },
    {
     "data": {
      "image/png": "[encoded data removed]",
      "text/plain": [
       "<Figure size 432x288 with 1 Axes>"
      ]
     },
     "metadata": {
      "needs_background": "light"
     },
     "output_type": "display_data"
    }
   ],
   "source": [
    "sns.distplot(kepler['koi_depth_err2'], bins=50)"
   ]
  },
  {
   "cell_type": "code",
   "execution_count": 71,
   "metadata": {},
   "outputs": [
    {
     "data": {
      "text/plain": [
       "<matplotlib.axes._subplots.AxesSubplot at 0x26f93d4b688>"
      ]
     },
     "execution_count": 71,
     "metadata": {},
     "output_type": "execute_result"
    },
    {
     "data": {
      "image/png": "[encoded data removed]",
      "text/plain": [
       "<Figure size 432x288 with 1 Axes>"
      ]
     },
     "metadata": {
      "needs_background": "light"
     },
     "output_type": "display_data"
    }
   ],
   "source": [
    "sns.distplot(kepler['koi_prad'], bins=50)"
   ]
  },
  {
   "cell_type": "code",
   "execution_count": 61,
   "metadata": {},
   "outputs": [
    {
     "data": {
      "text/plain": [
       "<matplotlib.axes._subplots.AxesSubplot at 0x26f95cc1a48>"
      ]
     },
     "execution_count": 61,
     "metadata": {},
     "output_type": "execute_result"
    },
    {
     "data": {
      "image/png": "[encoded data removed]",
      "text/plain": [
       "<Figure size 432x288 with 1 Axes>"
      ]
     },
     "metadata": {
      "needs_background": "light"
     },
     "output_type": "display_data"
    }
   ],
   "source": [
    "sns.distplot(kepler['koi_insol'], bins=50)"
   ]
  },
  {
   "cell_type": "code",
   "execution_count": 59,
   "metadata": {},
   "outputs": [
    {
     "data": {
      "text/plain": [
       "<matplotlib.axes._subplots.AxesSubplot at 0x26f940d0108>"
      ]
     },
     "execution_count": 59,
     "metadata": {},
     "output_type": "execute_result"
    },
    {
     "data": {
      "image/png": "[encoded data removed]",
      "text/plain": [
       "<Figure size 432x288 with 1 Axes>"
      ]
     },
     "metadata": {
      "needs_background": "light"
     },
     "output_type": "display_data"
    }
   ],
   "source": [
    "sns.countplot(x='koi_tce_plnt_num', data=kepler)"
   ]
  },
  {
   "cell_type": "code",
   "execution_count": 62,
   "metadata": {},
   "outputs": [
    {
     "data": {
      "text/plain": [
       "<matplotlib.axes._subplots.AxesSubplot at 0x26f95dbbf88>"
      ]
     },
     "execution_count": 62,
     "metadata": {},
     "output_type": "execute_result"
    },
    {
     "data": {
      "image/png": "[encoded data removed]",
      "text/plain": [
       "<Figure size 432x288 with 1 Axes>"
      ]
     },
     "metadata": {
      "needs_background": "light"
     },
     "output_type": "display_data"
    }
   ],
   "source": [
    "sns.distplot(kepler['koi_steff_err1'], bins=50)"
   ]
  },
  {
   "cell_type": "markdown",
   "metadata": {},
   "source": [
    "Looking at these randomly chosen data distributions, it's clear that they're not normally distributed, there doesn't look like there's a clear type of distribution. Imputing the NaN values for each features will be done case-by-case however it looks like the missing values are all in the error features with error values being close to 0. I will be replacing the error features with the **median**."
   ]
  },
  {
   "cell_type": "markdown",
   "metadata": {},
   "source": [
    "### Target class"
   ]
  },
  {
   "cell_type": "markdown",
   "metadata": {},
   "source": [
    "My target label is *'koi_disposition'*"
   ]
  },
  {
   "cell_type": "code",
   "execution_count": 195,
   "metadata": {},
   "outputs": [
    {
     "data": {
      "text/plain": [
       "<matplotlib.axes._subplots.AxesSubplot at 0x26fa29b34c8>"
      ]
     },
     "execution_count": 195,
     "metadata": {},
     "output_type": "execute_result"
    },
    {
     "data": {
      "image/png": "[encoded data removed]",
      "text/plain": [
       "<Figure size 432x288 with 1 Axes>"
      ]
     },
     "metadata": {
      "needs_background": "light"
     },
     "output_type": "display_data"
    }
   ],
   "source": [
    "# Creating a countplot of the target label to understand the distribution\n",
    "sns.countplot(x='koi_disposition', data=kepler)"
   ]
  },
  {
   "cell_type": "markdown",
   "metadata": {},
   "source": [
    "There is a inbalance of target label with 'FALSE POSITIVE' as the majority of the label. I could do undersampling of 'FALSE POSITIVE' to get balanced targets but, I think the imbalanced target data is acceptable. I will be separating the Candidate label and placing into a separate dataset that will be used for my final model to predict.  "
   ]
  },
  {
   "cell_type": "code",
   "execution_count": 128,
   "metadata": {},
   "outputs": [
    {
     "data": {
      "text/plain": [
       "<matplotlib.axes._subplots.AxesSubplot at 0x17a739ef548>"
      ]
     },
     "execution_count": 128,
     "metadata": {},
     "output_type": "execute_result"
    },
    {
     "data": {
      "image/png": "[encoded data removed]",
      "text/plain": [
       "<Figure size 1440x720 with 2 Axes>"
      ]
     },
     "metadata": {
      "needs_background": "light"
     },
     "output_type": "display_data"
    }
   ],
   "source": [
    "#Creating varaible that contains important numeric values of the kepler dataset only\n",
    "kep = kepler.drop(['kepid','kepoi_name','koi_disposition','kepler_name', 'koi_pdisposition', 'koi_score', 'koi_fpflag_nt', 'koi_fpflag_ss', 'koi_fpflag_co', 'koi_fpflag_ec', 'koi_teq_err1', \n",
    "                   'koi_teq_err2', 'koi_tce_delivname'], axis=1)\n",
    "\n",
    "# Setting the plot size\n",
    "plt.subplots(figsize=(20,10))\n",
    "\n",
    "# Created a heatmap of the correlations\n",
    "sns.heatmap(kep.corr())"
   ]
  },
  {
   "cell_type": "markdown",
   "metadata": {},
   "source": [
    "Looks like the majority of the correlations has to do with the error pairs (upper and lower) associated with important predictor variables which is expected."
   ]
  },
  {
   "cell_type": "markdown",
   "metadata": {},
   "source": [
    "# Prepare the data for machine learning algorithm"
   ]
  },
  {
   "cell_type": "markdown",
   "metadata": {},
   "source": [
    "### Data cleaning"
   ]
  },
  {
   "cell_type": "markdown",
   "metadata": {},
   "source": [
    "I'll be removing unnecessary columns in the Keplar dataset as-well as indicator columns that the algorithms will mainly use to classify the target label. I don't want the algorithm to rely soley on those columns to classify the target label. For an example, if there's any values that equals to 1 in the 'koi_fpflag_nt' column, it is automatically classified as 'FALSE POSITIVE'. None of the candidates have 1 as their values for any of the fpflag predictor variables. "
   ]
  },
  {
   "cell_type": "code",
   "execution_count": 57,
   "metadata": {},
   "outputs": [],
   "source": [
    "# Deleting the columns that are unnecessary and that might potentially be taken advantage of by the algorithm\n",
    "kepler.drop(['kepler_name', 'koi_pdisposition', 'koi_score', 'koi_fpflag_nt', 'koi_fpflag_ss', 'koi_fpflag_co', 'koi_fpflag_ec', 'koi_teq_err1', 'koi_teq_err2', 'koi_tce_delivname'], axis=1, inplace = True)"
   ]
  },
  {
   "cell_type": "code",
   "execution_count": 58,
   "metadata": {},
   "outputs": [
    {
     "data": {
      "text/html": [
       "<div>\n",
       "<style scoped>\n",
       "    .dataframe tbody tr th:only-of-type {\n",
       "        vertical-align: middle;\n",
       "    }\n",
       "\n",
       "    .dataframe tbody tr th {\n",
       "        vertical-align: top;\n",
       "    }\n",
       "\n",
       "    .dataframe thead th {\n",
       "        text-align: right;\n",
       "    }\n",
       "</style>\n",
       "<table border=\"1\" class=\"dataframe\">\n",
       "  <thead>\n",
       "    <tr style=\"text-align: right;\">\n",
       "      <th></th>\n",
       "      <th>kepid</th>\n",
       "      <th>kepoi_name</th>\n",
       "      <th>koi_disposition</th>\n",
       "      <th>koi_period</th>\n",
       "      <th>koi_period_err1</th>\n",
       "      <th>koi_period_err2</th>\n",
       "      <th>koi_time0bk</th>\n",
       "      <th>koi_time0bk_err1</th>\n",
       "      <th>koi_time0bk_err2</th>\n",
       "      <th>koi_impact</th>\n",
       "      <th>...</th>\n",
       "      <th>koi_steff_err2</th>\n",
       "      <th>koi_slogg</th>\n",
       "      <th>koi_slogg_err1</th>\n",
       "      <th>koi_slogg_err2</th>\n",
       "      <th>koi_srad</th>\n",
       "      <th>koi_srad_err1</th>\n",
       "      <th>koi_srad_err2</th>\n",
       "      <th>ra</th>\n",
       "      <th>dec</th>\n",
       "      <th>koi_kepmag</th>\n",
       "    </tr>\n",
       "  </thead>\n",
       "  <tbody>\n",
       "    <tr>\n",
       "      <th>0</th>\n",
       "      <td>10797460</td>\n",
       "      <td>K00752.01</td>\n",
       "      <td>CONFIRMED</td>\n",
       "      <td>9.488036</td>\n",
       "      <td>2.780000e-05</td>\n",
       "      <td>-2.780000e-05</td>\n",
       "      <td>170.538750</td>\n",
       "      <td>0.002160</td>\n",
       "      <td>-0.002160</td>\n",
       "      <td>0.146</td>\n",
       "      <td>...</td>\n",
       "      <td>-81.0</td>\n",
       "      <td>4.467</td>\n",
       "      <td>0.064</td>\n",
       "      <td>-0.096</td>\n",
       "      <td>0.927</td>\n",
       "      <td>0.105</td>\n",
       "      <td>-0.061</td>\n",
       "      <td>291.93423</td>\n",
       "      <td>48.141651</td>\n",
       "      <td>15.347</td>\n",
       "    </tr>\n",
       "    <tr>\n",
       "      <th>1</th>\n",
       "      <td>10797460</td>\n",
       "      <td>K00752.02</td>\n",
       "      <td>CONFIRMED</td>\n",
       "      <td>54.418383</td>\n",
       "      <td>2.480000e-04</td>\n",
       "      <td>-2.480000e-04</td>\n",
       "      <td>162.513840</td>\n",
       "      <td>0.003520</td>\n",
       "      <td>-0.003520</td>\n",
       "      <td>0.586</td>\n",
       "      <td>...</td>\n",
       "      <td>-81.0</td>\n",
       "      <td>4.467</td>\n",
       "      <td>0.064</td>\n",
       "      <td>-0.096</td>\n",
       "      <td>0.927</td>\n",
       "      <td>0.105</td>\n",
       "      <td>-0.061</td>\n",
       "      <td>291.93423</td>\n",
       "      <td>48.141651</td>\n",
       "      <td>15.347</td>\n",
       "    </tr>\n",
       "    <tr>\n",
       "      <th>2</th>\n",
       "      <td>10811496</td>\n",
       "      <td>K00753.01</td>\n",
       "      <td>CANDIDATE</td>\n",
       "      <td>19.899140</td>\n",
       "      <td>1.490000e-05</td>\n",
       "      <td>-1.490000e-05</td>\n",
       "      <td>175.850252</td>\n",
       "      <td>0.000581</td>\n",
       "      <td>-0.000581</td>\n",
       "      <td>0.969</td>\n",
       "      <td>...</td>\n",
       "      <td>-176.0</td>\n",
       "      <td>4.544</td>\n",
       "      <td>0.044</td>\n",
       "      <td>-0.176</td>\n",
       "      <td>0.868</td>\n",
       "      <td>0.233</td>\n",
       "      <td>-0.078</td>\n",
       "      <td>297.00482</td>\n",
       "      <td>48.134129</td>\n",
       "      <td>15.436</td>\n",
       "    </tr>\n",
       "    <tr>\n",
       "      <th>3</th>\n",
       "      <td>10848459</td>\n",
       "      <td>K00754.01</td>\n",
       "      <td>FALSE POSITIVE</td>\n",
       "      <td>1.736952</td>\n",
       "      <td>2.630000e-07</td>\n",
       "      <td>-2.630000e-07</td>\n",
       "      <td>170.307565</td>\n",
       "      <td>0.000115</td>\n",
       "      <td>-0.000115</td>\n",
       "      <td>1.276</td>\n",
       "      <td>...</td>\n",
       "      <td>-174.0</td>\n",
       "      <td>4.564</td>\n",
       "      <td>0.053</td>\n",
       "      <td>-0.168</td>\n",
       "      <td>0.791</td>\n",
       "      <td>0.201</td>\n",
       "      <td>-0.067</td>\n",
       "      <td>285.53461</td>\n",
       "      <td>48.285210</td>\n",
       "      <td>15.597</td>\n",
       "    </tr>\n",
       "    <tr>\n",
       "      <th>4</th>\n",
       "      <td>10854555</td>\n",
       "      <td>K00755.01</td>\n",
       "      <td>CONFIRMED</td>\n",
       "      <td>2.525592</td>\n",
       "      <td>3.760000e-06</td>\n",
       "      <td>-3.760000e-06</td>\n",
       "      <td>171.595550</td>\n",
       "      <td>0.001130</td>\n",
       "      <td>-0.001130</td>\n",
       "      <td>0.701</td>\n",
       "      <td>...</td>\n",
       "      <td>-211.0</td>\n",
       "      <td>4.438</td>\n",
       "      <td>0.070</td>\n",
       "      <td>-0.210</td>\n",
       "      <td>1.046</td>\n",
       "      <td>0.334</td>\n",
       "      <td>-0.133</td>\n",
       "      <td>288.75488</td>\n",
       "      <td>48.226200</td>\n",
       "      <td>15.509</td>\n",
       "    </tr>\n",
       "    <tr>\n",
       "      <th>...</th>\n",
       "      <td>...</td>\n",
       "      <td>...</td>\n",
       "      <td>...</td>\n",
       "      <td>...</td>\n",
       "      <td>...</td>\n",
       "      <td>...</td>\n",
       "      <td>...</td>\n",
       "      <td>...</td>\n",
       "      <td>...</td>\n",
       "      <td>...</td>\n",
       "      <td>...</td>\n",
       "      <td>...</td>\n",
       "      <td>...</td>\n",
       "      <td>...</td>\n",
       "      <td>...</td>\n",
       "      <td>...</td>\n",
       "      <td>...</td>\n",
       "      <td>...</td>\n",
       "      <td>...</td>\n",
       "      <td>...</td>\n",
       "      <td>...</td>\n",
       "    </tr>\n",
       "    <tr>\n",
       "      <th>9559</th>\n",
       "      <td>10090151</td>\n",
       "      <td>K07985.01</td>\n",
       "      <td>FALSE POSITIVE</td>\n",
       "      <td>0.527699</td>\n",
       "      <td>1.160000e-07</td>\n",
       "      <td>-1.160000e-07</td>\n",
       "      <td>131.705093</td>\n",
       "      <td>0.000170</td>\n",
       "      <td>-0.000170</td>\n",
       "      <td>1.252</td>\n",
       "      <td>...</td>\n",
       "      <td>-166.0</td>\n",
       "      <td>4.529</td>\n",
       "      <td>0.035</td>\n",
       "      <td>-0.196</td>\n",
       "      <td>0.903</td>\n",
       "      <td>0.237</td>\n",
       "      <td>-0.079</td>\n",
       "      <td>297.18875</td>\n",
       "      <td>47.093819</td>\n",
       "      <td>14.082</td>\n",
       "    </tr>\n",
       "    <tr>\n",
       "      <th>9560</th>\n",
       "      <td>10128825</td>\n",
       "      <td>K07986.01</td>\n",
       "      <td>CANDIDATE</td>\n",
       "      <td>1.739849</td>\n",
       "      <td>1.780000e-05</td>\n",
       "      <td>-1.780000e-05</td>\n",
       "      <td>133.001270</td>\n",
       "      <td>0.007690</td>\n",
       "      <td>-0.007690</td>\n",
       "      <td>0.043</td>\n",
       "      <td>...</td>\n",
       "      <td>-220.0</td>\n",
       "      <td>4.444</td>\n",
       "      <td>0.056</td>\n",
       "      <td>-0.224</td>\n",
       "      <td>1.031</td>\n",
       "      <td>0.341</td>\n",
       "      <td>-0.114</td>\n",
       "      <td>286.50937</td>\n",
       "      <td>47.163219</td>\n",
       "      <td>14.757</td>\n",
       "    </tr>\n",
       "    <tr>\n",
       "      <th>9561</th>\n",
       "      <td>10147276</td>\n",
       "      <td>K07987.01</td>\n",
       "      <td>FALSE POSITIVE</td>\n",
       "      <td>0.681402</td>\n",
       "      <td>2.430000e-06</td>\n",
       "      <td>-2.430000e-06</td>\n",
       "      <td>132.181750</td>\n",
       "      <td>0.002850</td>\n",
       "      <td>-0.002850</td>\n",
       "      <td>0.147</td>\n",
       "      <td>...</td>\n",
       "      <td>-236.0</td>\n",
       "      <td>4.447</td>\n",
       "      <td>0.056</td>\n",
       "      <td>-0.224</td>\n",
       "      <td>1.041</td>\n",
       "      <td>0.341</td>\n",
       "      <td>-0.114</td>\n",
       "      <td>294.16489</td>\n",
       "      <td>47.176281</td>\n",
       "      <td>15.385</td>\n",
       "    </tr>\n",
       "    <tr>\n",
       "      <th>9562</th>\n",
       "      <td>10155286</td>\n",
       "      <td>K07988.01</td>\n",
       "      <td>CANDIDATE</td>\n",
       "      <td>333.486169</td>\n",
       "      <td>4.240000e-03</td>\n",
       "      <td>-4.240000e-03</td>\n",
       "      <td>153.615010</td>\n",
       "      <td>0.005070</td>\n",
       "      <td>-0.005070</td>\n",
       "      <td>0.214</td>\n",
       "      <td>...</td>\n",
       "      <td>-128.0</td>\n",
       "      <td>2.992</td>\n",
       "      <td>0.030</td>\n",
       "      <td>-0.027</td>\n",
       "      <td>7.824</td>\n",
       "      <td>0.223</td>\n",
       "      <td>-1.896</td>\n",
       "      <td>296.76288</td>\n",
       "      <td>47.145142</td>\n",
       "      <td>10.998</td>\n",
       "    </tr>\n",
       "    <tr>\n",
       "      <th>9563</th>\n",
       "      <td>10156110</td>\n",
       "      <td>K07989.01</td>\n",
       "      <td>FALSE POSITIVE</td>\n",
       "      <td>4.856035</td>\n",
       "      <td>6.360000e-05</td>\n",
       "      <td>-6.360000e-05</td>\n",
       "      <td>135.993300</td>\n",
       "      <td>0.010800</td>\n",
       "      <td>-0.010800</td>\n",
       "      <td>0.134</td>\n",
       "      <td>...</td>\n",
       "      <td>-225.0</td>\n",
       "      <td>4.385</td>\n",
       "      <td>0.054</td>\n",
       "      <td>-0.216</td>\n",
       "      <td>1.193</td>\n",
       "      <td>0.410</td>\n",
       "      <td>-0.137</td>\n",
       "      <td>297.00977</td>\n",
       "      <td>47.121021</td>\n",
       "      <td>14.826</td>\n",
       "    </tr>\n",
       "  </tbody>\n",
       "</table>\n",
       "<p>9564 rows × 39 columns</p>\n",
       "</div>"
      ],
      "text/plain": [
       "         kepid kepoi_name koi_disposition  koi_period  koi_period_err1  \\\n",
       "0     10797460  K00752.01       CONFIRMED    9.488036     2.780000e-05   \n",
       "1     10797460  K00752.02       CONFIRMED   54.418383     2.480000e-04   \n",
       "2     10811496  K00753.01       CANDIDATE   19.899140     1.490000e-05   \n",
       "3     10848459  K00754.01  FALSE POSITIVE    1.736952     2.630000e-07   \n",
       "4     10854555  K00755.01       CONFIRMED    2.525592     3.760000e-06   \n",
       "...        ...        ...             ...         ...              ...   \n",
       "9559  10090151  K07985.01  FALSE POSITIVE    0.527699     1.160000e-07   \n",
       "9560  10128825  K07986.01       CANDIDATE    1.739849     1.780000e-05   \n",
       "9561  10147276  K07987.01  FALSE POSITIVE    0.681402     2.430000e-06   \n",
       "9562  10155286  K07988.01       CANDIDATE  333.486169     4.240000e-03   \n",
       "9563  10156110  K07989.01  FALSE POSITIVE    4.856035     6.360000e-05   \n",
       "\n",
       "      koi_period_err2  koi_time0bk  koi_time0bk_err1  koi_time0bk_err2  \\\n",
       "0       -2.780000e-05   170.538750          0.002160         -0.002160   \n",
       "1       -2.480000e-04   162.513840          0.003520         -0.003520   \n",
       "2       -1.490000e-05   175.850252          0.000581         -0.000581   \n",
       "3       -2.630000e-07   170.307565          0.000115         -0.000115   \n",
       "4       -3.760000e-06   171.595550          0.001130         -0.001130   \n",
       "...               ...          ...               ...               ...   \n",
       "9559    -1.160000e-07   131.705093          0.000170         -0.000170   \n",
       "9560    -1.780000e-05   133.001270          0.007690         -0.007690   \n",
       "9561    -2.430000e-06   132.181750          0.002850         -0.002850   \n",
       "9562    -4.240000e-03   153.615010          0.005070         -0.005070   \n",
       "9563    -6.360000e-05   135.993300          0.010800         -0.010800   \n",
       "\n",
       "      koi_impact  ...  koi_steff_err2  koi_slogg  koi_slogg_err1  \\\n",
       "0          0.146  ...           -81.0      4.467           0.064   \n",
       "1          0.586  ...           -81.0      4.467           0.064   \n",
       "2          0.969  ...          -176.0      4.544           0.044   \n",
       "3          1.276  ...          -174.0      4.564           0.053   \n",
       "4          0.701  ...          -211.0      4.438           0.070   \n",
       "...          ...  ...             ...        ...             ...   \n",
       "9559       1.252  ...          -166.0      4.529           0.035   \n",
       "9560       0.043  ...          -220.0      4.444           0.056   \n",
       "9561       0.147  ...          -236.0      4.447           0.056   \n",
       "9562       0.214  ...          -128.0      2.992           0.030   \n",
       "9563       0.134  ...          -225.0      4.385           0.054   \n",
       "\n",
       "      koi_slogg_err2  koi_srad  koi_srad_err1  koi_srad_err2         ra  \\\n",
       "0             -0.096     0.927          0.105         -0.061  291.93423   \n",
       "1             -0.096     0.927          0.105         -0.061  291.93423   \n",
       "2             -0.176     0.868          0.233         -0.078  297.00482   \n",
       "3             -0.168     0.791          0.201         -0.067  285.53461   \n",
       "4             -0.210     1.046          0.334         -0.133  288.75488   \n",
       "...              ...       ...            ...            ...        ...   \n",
       "9559          -0.196     0.903          0.237         -0.079  297.18875   \n",
       "9560          -0.224     1.031          0.341         -0.114  286.50937   \n",
       "9561          -0.224     1.041          0.341         -0.114  294.16489   \n",
       "9562          -0.027     7.824          0.223         -1.896  296.76288   \n",
       "9563          -0.216     1.193          0.410         -0.137  297.00977   \n",
       "\n",
       "            dec  koi_kepmag  \n",
       "0     48.141651      15.347  \n",
       "1     48.141651      15.347  \n",
       "2     48.134129      15.436  \n",
       "3     48.285210      15.597  \n",
       "4     48.226200      15.509  \n",
       "...         ...         ...  \n",
       "9559  47.093819      14.082  \n",
       "9560  47.163219      14.757  \n",
       "9561  47.176281      15.385  \n",
       "9562  47.145142      10.998  \n",
       "9563  47.121021      14.826  \n",
       "\n",
       "[9564 rows x 39 columns]"
      ]
     },
     "execution_count": 58,
     "metadata": {},
     "output_type": "execute_result"
    }
   ],
   "source": [
    "# Creating a variable that will contain features that won't be used for imputation \n",
    "kepler_left = kepler[['kepid','kepoi_name','koi_disposition']]\n",
    "\n",
    "# Features that will be used in have missing values imputed\n",
    "kepler_right = kepler.drop(['kepid','kepoi_name','koi_disposition'], axis=1)\n",
    "\n",
    "# Importing Scikit learn's imputer library\n",
    "from sklearn.impute import SimpleImputer\n",
    "\n",
    "# Created imputer function instance\n",
    "imputer = SimpleImputer(strategy=\"median\")\n",
    "\n",
    "# Since we can't be sure that the new data won't have missing values, best to find median for all feature and just apply them to potential missing data.\n",
    "# Fitting imputer based on the second dataset\n",
    "imputer.fit(kepler_right)\n",
    "\n",
    "# Tranforming second dataset which resulted in plain NumPy array\n",
    "X = imputer.transform(kepler_right)                           \n",
    "\n",
    "# Create a new dataframe using the imputed dataset \n",
    "kepler_right_nmv = pd.DataFrame(X, columns=kepler_right.columns, index=kepler_right.index)\n",
    "\n",
    "# Combining the dataset that under went PCA with the dataset that wasn't used in PCA\n",
    "kepler_final = pd.concat([kepler_left, kepler_right_nmv], axis=1)\n",
    "\n",
    "# Checking the final dataset\n",
    "kepler_final"
   ]
  },
  {
   "cell_type": "markdown",
   "metadata": {},
   "source": [
    "### Separating candidates from target classes"
   ]
  },
  {
   "cell_type": "code",
   "execution_count": 88,
   "metadata": {},
   "outputs": [],
   "source": [
    "# Separated dataframe containing the 'CANDIDATE' only target class (koi_dispositon)\n",
    "kep_can = kepler_final[kepler_final.koi_disposition == 'CANDIDATE']\n",
    "\n",
    "# Separated dataframe containing NON 'CANDIDATE' only target classs\n",
    "kep_ds = kepler_final[kepler_final.koi_disposition != 'CANDIDATE']"
   ]
  },
  {
   "cell_type": "markdown",
   "metadata": {},
   "source": [
    "The dataset containing the NON 'CANDIDATE' target classes will be used to train/validate/test while the 'CANDIDATE' dataset will be used to see if my final model(s) will be able to predict any other exoplanets that are earth-sized or smaller within the habitable zone of their respective sun. "
   ]
  },
  {
   "cell_type": "markdown",
   "metadata": {},
   "source": [
    "### Performance metrics \n",
    "\n",
    "For this project, it is better to make sure we are on the safer side and have our model with low False Negative (FN) which mean we care more about the **recall** score. We want to make sure not to easily eliminated potential planets."
   ]
  },
  {
   "cell_type": "code",
   "execution_count": 89,
   "metadata": {},
   "outputs": [],
   "source": [
    "# Importing libraries to modify scoring parameter\n",
    "from sklearn.metrics import recall_score\n",
    "from sklearn.metrics import make_scorer\n",
    "\n",
    "# Making new scorer\n",
    "recall_scorer = make_scorer(recall_score, pos_label=\"CONFIRMED\")"
   ]
  },
  {
   "cell_type": "markdown",
   "metadata": {},
   "source": [
    "### Pipeline"
   ]
  },
  {
   "cell_type": "markdown",
   "metadata": {},
   "source": [
    "I will be using PCA (Principle Component Analysis) to reduce some variables that do not explain much of the variance. I choose to use 17 components because I know that there is roughly 17 important features and all others are just errors associated with those features. If my model is performing poorly, I will try to build a model without PCA performed."
   ]
  },
  {
   "cell_type": "markdown",
   "metadata": {},
   "source": [
    "Since I am performing PCA and using multiple regression algorithms, I need to scale my data. I will need to perform separate PCA for every classifier and CV fold and for that reason, I will be creating a pipeline. I need to perform PCA for every classified and CV fold if I want to be able to measure the generalization error."
   ]
  },
  {
   "cell_type": "code",
   "execution_count": 96,
   "metadata": {},
   "outputs": [],
   "source": [
    "pipeline_lr = Pipeline([('scale1', StandardScaler()), ('pca1', PCA(n_components=17)), ('lr_class', LogisticRegression())])\n",
    "\n",
    "pipeline_knn = Pipeline([('scale2', StandardScaler()), ('pca2', PCA(n_components=17)), ('knn_class', KNeighborsClassifier())])\n",
    "\n",
    "pipeline_dt = Pipeline ([('scale3', StandardScaler()), ('pca3', PCA(n_components=17)), ('dt_class', DecisionTreeClassifier())])\n",
    "\n",
    "pipeline_rf = Pipeline ([('scale4', StandardScaler()), ('pca4', PCA(n_components=17)), ('rf_class', RandomForestClassifier())])\n",
    "\n",
    "pipeline_svr = Pipeline ([('scale5', StandardScaler()), ('pca5', PCA(n_components=17)), ('svr_class', SVC())])"
   ]
  },
  {
   "cell_type": "markdown",
   "metadata": {},
   "source": [
    "# Model building (baseline)\n",
    "I will build a model using baseline parameters and guage how each of the models perform by using 5 fold cross-validation. I will then perform some model tuning to see if I can further improve my models. The models used and their **Recall** score will be:\n",
    "* Logistic Regression (79.6%)\n",
    "* KNN (87.4%)\n",
    "* Decision Tree (84.5%)\n",
    "* Random Forest (90.4%)\n",
    "* SVM (88.0%)"
   ]
  },
  {
   "cell_type": "code",
   "execution_count": 85,
   "metadata": {},
   "outputs": [],
   "source": [
    "# Import Scikit learn's train_test_split function\n",
    "from sklearn.model_selection import train_test_split\n",
    "\n",
    "# Creating sets\n",
    "X_train, X_test, y_train, y_test = train_test_split(kep_ds.drop(['kepid','kepoi_name','koi_disposition'], axis=1), kep_ds['koi_disposition'], test_size=0.25)"
   ]
  },
  {
   "cell_type": "markdown",
   "metadata": {},
   "source": [
    "### Linear Regression"
   ]
  },
  {
   "cell_type": "code",
   "execution_count": 86,
   "metadata": {},
   "outputs": [
    {
     "name": "stdout",
     "output_type": "stream",
     "text": [
      "Average Recall Score: 0.7961071040411027\n"
     ]
    }
   ],
   "source": [
    "# Perform cross validation\n",
    "crs = cross_val_score(pipeline_lr, X_train, y_train, cv=5, scoring=recall_scorer)\n",
    "print('Average Recall Score:', crs.mean())"
   ]
  },
  {
   "cell_type": "markdown",
   "metadata": {},
   "source": [
    "### KNN"
   ]
  },
  {
   "cell_type": "code",
   "execution_count": 73,
   "metadata": {},
   "outputs": [
    {
     "name": "stdout",
     "output_type": "stream",
     "text": [
      "Average Recall Score: 0.8744157364438312\n"
     ]
    }
   ],
   "source": [
    "crs = cross_val_score(pipeline_knn, X_train, y_train, cv=5, scoring=recall_scorer)\n",
    "print('Average Recall Score:', crs.mean())"
   ]
  },
  {
   "cell_type": "markdown",
   "metadata": {},
   "source": [
    "### Decision Tree"
   ]
  },
  {
   "cell_type": "code",
   "execution_count": 74,
   "metadata": {},
   "outputs": [
    {
     "name": "stdout",
     "output_type": "stream",
     "text": [
      "Average Recall Score: 0.8451180721044637\n"
     ]
    }
   ],
   "source": [
    "crs = cross_val_score(pipeline_dt, X_train, y_train, cv=5, scoring=recall_scorer)\n",
    "print('Average Recall Score:', crs.mean())"
   ]
  },
  {
   "cell_type": "markdown",
   "metadata": {},
   "source": [
    "### Random Forest"
   ]
  },
  {
   "cell_type": "code",
   "execution_count": 75,
   "metadata": {},
   "outputs": [
    {
     "name": "stdout",
     "output_type": "stream",
     "text": [
      "Average Recall Score: 0.903899967947378\n"
     ]
    }
   ],
   "source": [
    "crs = cross_val_score(pipeline_rf, X_train, y_train, cv=5, scoring=recall_scorer)\n",
    "print('Average Recall Score:', crs.mean())"
   ]
  },
  {
   "cell_type": "markdown",
   "metadata": {},
   "source": [
    "### SVC"
   ]
  },
  {
   "cell_type": "code",
   "execution_count": 78,
   "metadata": {},
   "outputs": [
    {
     "name": "stdout",
     "output_type": "stream",
     "text": [
      "Average Recall Score: 0.8800146675585658\n"
     ]
    }
   ],
   "source": [
    "crs = cross_val_score(pipeline_svr, X_train, y_train, cv=5, scoring=recall_scorer)\n",
    "print('Average Recall Score:', crs.mean())"
   ]
  },
  {
   "cell_type": "markdown",
   "metadata": {},
   "source": [
    "# Model tuning\n",
    "After getting the baseline, I will try to tune the model to see if I can get bette performance. The models I'll be tuning and their **Recall** score is:\n",
    "* Logistic Regression (80.8%)\n",
    "* KNN (84.7%)\n",
    "* Random Forest (81.6%)\n",
    "* SVM (86.6%)"
   ]
  },
  {
   "cell_type": "markdown",
   "metadata": {},
   "source": [
    "These models will be fitted with **training sets only** and are not exposed to the testset."
   ]
  },
  {
   "cell_type": "code",
   "execution_count": 91,
   "metadata": {},
   "outputs": [],
   "source": [
    "# Importing Grid Search library from Scikit-learn\n",
    "from sklearn.model_selection import GridSearchCV "
   ]
  },
  {
   "cell_type": "code",
   "execution_count": 99,
   "metadata": {},
   "outputs": [],
   "source": [
    "# Created a simple performance reporting function\n",
    "def clf_performance(classifier, model_name):\n",
    "    print(model_name)\n",
    "    print('Best Recall Score: ' + str(classifier.best_score_))\n",
    "    print('Best Parameters: ' + str(classifier.best_params_))"
   ]
  },
  {
   "cell_type": "code",
   "execution_count": 100,
   "metadata": {},
   "outputs": [
    {
     "name": "stdout",
     "output_type": "stream",
     "text": [
      "Logistic Regression\n",
      "Best Recall Score: 0.8081694825939465\n",
      "Best Parameters: {'lr_class__C': 88.86238162743408, 'lr_class__max_iter': 1000}\n"
     ]
    }
   ],
   "source": [
    "# Setting up the hyperparameter that I plan to use\n",
    "param_grid = {'lr_class__max_iter' : [1000],\n",
    "              'lr_class__C' : np.logspace(-4, 4, 40)}\n",
    "\n",
    "# Applying Grid Search\n",
    "clf_lr = GridSearchCV(pipeline_lr, param_grid = param_grid, cv = 5, n_jobs = -1, refit=True, scoring=recall_scorer)\n",
    "\n",
    "# Created a variable that will contain the tuned model with the best hyperparameters already fitted \n",
    "best_clf_lr = clf_lr.fit(X_train, y_train)\n",
    "\n",
    "# Reporting the performance using the reporting function created earlier \n",
    "clf_performance(best_clf_lr,'Logistic Regression')"
   ]
  },
  {
   "cell_type": "code",
   "execution_count": 98,
   "metadata": {},
   "outputs": [
    {
     "name": "stdout",
     "output_type": "stream",
     "text": [
      "KNN\n",
      "Best Score: 0.8472137140598756\n",
      "Best Parameters: {'knn_class__algorithm': 'auto', 'knn_class__n_neighbors': 3, 'knn_class__p': 1}\n"
     ]
    }
   ],
   "source": [
    "param_grid = {'knn_class__n_neighbors' : [3,5,7,9],\n",
    "              'knn_class__algorithm' : ['auto', 'ball_tree','kd_tree'],\n",
    "              'knn_class__p' : [1,2]}\n",
    "\n",
    "clf_knn = GridSearchCV(pipeline_knn, param_grid = param_grid, cv = 5, n_jobs = -1, refit=True, scoring=recall_scorer)\n",
    "\n",
    "best_clf_knn = clf_knn.fit(X_train, y_train)\n",
    "\n",
    "clf_performance(best_clf_knn,'KNN')"
   ]
  },
  {
   "cell_type": "code",
   "execution_count": 101,
   "metadata": {},
   "outputs": [
    {
     "name": "stdout",
     "output_type": "stream",
     "text": [
      "Random Forest\n",
      "Best Recall Score: 0.8162022856766459\n",
      "Best Parameters: {'rf_class__bootstrap': True, 'rf_class__criterion': 'entropy', 'rf_class__max_depth': 25, 'rf_class__max_features': 10, 'rf_class__min_samples_leaf': 2, 'rf_class__min_samples_split': 2, 'rf_class__n_estimators': 400}\n"
     ]
    }
   ],
   "source": [
    "param_grid =  {'rf_class__n_estimators': [400,450,500,550],\n",
    "               'rf_class__criterion':['gini','entropy'],\n",
    "                                  'rf_class__bootstrap': [True],\n",
    "                                  'rf_class__max_depth': [15, 20, 25],\n",
    "                                  'rf_class__max_features': ['auto','sqrt', 10],\n",
    "                                  'rf_class__min_samples_leaf': [2,3],\n",
    "                                  'rf_class__min_samples_split': [2,3]}\n",
    "                                  \n",
    "clf_rf = GridSearchCV(pipeline_rf, param_grid = param_grid, cv = 5, n_jobs = -1, refit=True, scoring=recall_scorer)\n",
    "\n",
    "best_clf_rf = clf_rf.fit(X_train, y_train)\n",
    "\n",
    "clf_performance(best_clf_rf,'Random Forest')"
   ]
  },
  {
   "cell_type": "code",
   "execution_count": 103,
   "metadata": {},
   "outputs": [
    {
     "name": "stdout",
     "output_type": "stream",
     "text": [
      "SVC\n",
      "Best Recall Score: 0.8679000757500905\n",
      "Best Parameters: {'svr_class__C': 10, 'svr_class__gamma': 0.1, 'svr_class__kernel': 'rbf'}\n"
     ]
    }
   ],
   "source": [
    "param_grid = tuned_parameters = [{'svr_class__kernel': ['rbf'], 'svr_class__gamma': [.1,.5,1,2,5,10],\n",
    "                                  'svr_class__C': [.1, 1, 10, 100, 1000]},\n",
    "                                 {'svr_class__kernel': ['linear'], 'svr_class__C': [.1, 1, 10, 100, 1000]},\n",
    "                                 {'svr_class__kernel': ['poly'], 'svr_class__degree' : [2,3,4,5], 'svr_class__C': [.1, 1, 10, 100, 1000]}]\n",
    "\n",
    "clf_svc = GridSearchCV(pipeline_svr, param_grid = param_grid, cv = 5, n_jobs = -1, refit=True, scoring=recall_scorer)\n",
    "\n",
    "best_clf_svc = clf_svc.fit(X_train, y_train)\n",
    "\n",
    "clf_performance(best_clf_svc,'SVC')"
   ]
  },
  {
   "cell_type": "markdown",
   "metadata": {},
   "source": [
    "# Model evaluation on testset\n",
    "I will be using all of my tuned models to predict using X_test dataset and compare it y_test as a final evaluation of my models. **These models have not been exposed to the testset**."
   ]
  },
  {
   "cell_type": "code",
   "execution_count": 104,
   "metadata": {},
   "outputs": [],
   "source": [
    "# Imported the classification metrics \n",
    "from sklearn.metrics import confusion_matrix, classification_report"
   ]
  },
  {
   "cell_type": "code",
   "execution_count": 113,
   "metadata": {},
   "outputs": [
    {
     "name": "stdout",
     "output_type": "stream",
     "text": [
      "Logisitc Regression: \n",
      "                 precision    recall  f1-score   support\n",
      "\n",
      "     CONFIRMED       0.80      0.75      0.77       565\n",
      "FALSE POSITIVE       0.89      0.91      0.90      1222\n",
      "\n",
      "      accuracy                           0.86      1787\n",
      "     macro avg       0.84      0.83      0.84      1787\n",
      "  weighted avg       0.86      0.86      0.86      1787\n",
      "\n",
      "\n",
      " K Nearest Neighbour: \n",
      "                 precision    recall  f1-score   support\n",
      "\n",
      "     CONFIRMED       0.81      0.84      0.82       565\n",
      "FALSE POSITIVE       0.93      0.91      0.92      1222\n",
      "\n",
      "      accuracy                           0.89      1787\n",
      "     macro avg       0.87      0.87      0.87      1787\n",
      "  weighted avg       0.89      0.89      0.89      1787\n",
      "\n",
      "\n",
      " Random Forest: \n",
      "                 precision    recall  f1-score   support\n",
      "\n",
      "     CONFIRMED       0.87      0.80      0.84       565\n",
      "FALSE POSITIVE       0.91      0.95      0.93      1222\n",
      "\n",
      "      accuracy                           0.90      1787\n",
      "     macro avg       0.89      0.88      0.88      1787\n",
      "  weighted avg       0.90      0.90      0.90      1787\n",
      "\n",
      "\n",
      " SVC: \n",
      "                 precision    recall  f1-score   support\n",
      "\n",
      "     CONFIRMED       0.87      0.84      0.85       565\n",
      "FALSE POSITIVE       0.93      0.94      0.93      1222\n",
      "\n",
      "      accuracy                           0.91      1787\n",
      "     macro avg       0.90      0.89      0.89      1787\n",
      "  weighted avg       0.91      0.91      0.91      1787\n",
      "\n"
     ]
    }
   ],
   "source": [
    "# Created a variable that contains the predictions from X_test\n",
    "log_pred = best_clf_lr.predict(X_test)\n",
    "\n",
    "# Printed classification metrics comparing y_test and model prediction's\n",
    "print('Logisitc Regression: \\n', classification_report(y_test,log_pred))\n",
    "\n",
    "\n",
    "kn_pred = best_clf_knn.predict(X_test)\n",
    "print('\\n K Nearest Neighbour: \\n', classification_report(y_test,kn_pred))\n",
    "\n",
    "\n",
    "rff_pred = best_clf_rf.predict(X_test)\n",
    "print('\\n Random Forest: \\n', classification_report(y_test,rff_pred))\n",
    "\n",
    "\n",
    "sv_pred = best_clf_svc.predict(X_test)\n",
    "print('\\n SVC: \\n', classification_report(y_test,sv_pred))"
   ]
  },
  {
   "cell_type": "markdown",
   "metadata": {},
   "source": [
    "The final **recall** score on the testset are:\n",
    "* Logistic Regression (86%)\n",
    "* KNN (89%)\n",
    "* Random Forest (90%)\n",
    "* SVM (91%)"
   ]
  },
  {
   "cell_type": "markdown",
   "metadata": {},
   "source": [
    "# Model predictions\n",
    "I will now use my models to see if it could find new Exoplanets, earth-size and in the habitable zone, with the 'CANDIDATE' only dataset that I set apart earlier. "
   ]
  },
  {
   "cell_type": "code",
   "execution_count": 114,
   "metadata": {},
   "outputs": [
    {
     "name": "stderr",
     "output_type": "stream",
     "text": [
      "C:\\Users\\User\\anaconda3\\lib\\site-packages\\ipykernel_launcher.py:9: SettingWithCopyWarning: \n",
      "A value is trying to be set on a copy of a slice from a DataFrame.\n",
      "Try using .loc[row_indexer,col_indexer] = value instead\n",
      "\n",
      "See the caveats in the documentation: https://pandas.pydata.org/pandas-docs/stable/user_guide/indexing.html#returning-a-view-versus-a-copy\n",
      "  if __name__ == '__main__':\n",
      "C:\\Users\\User\\anaconda3\\lib\\site-packages\\ipykernel_launcher.py:10: SettingWithCopyWarning: \n",
      "A value is trying to be set on a copy of a slice from a DataFrame.\n",
      "Try using .loc[row_indexer,col_indexer] = value instead\n",
      "\n",
      "See the caveats in the documentation: https://pandas.pydata.org/pandas-docs/stable/user_guide/indexing.html#returning-a-view-versus-a-copy\n",
      "  # Remove the CWD from sys.path while we load stuff.\n"
     ]
    },
    {
     "data": {
      "text/html": [
       "<div>\n",
       "<style scoped>\n",
       "    .dataframe tbody tr th:only-of-type {\n",
       "        vertical-align: middle;\n",
       "    }\n",
       "\n",
       "    .dataframe tbody tr th {\n",
       "        vertical-align: top;\n",
       "    }\n",
       "\n",
       "    .dataframe thead th {\n",
       "        text-align: right;\n",
       "    }\n",
       "</style>\n",
       "<table border=\"1\" class=\"dataframe\">\n",
       "  <thead>\n",
       "    <tr style=\"text-align: right;\">\n",
       "      <th></th>\n",
       "      <th>kepid</th>\n",
       "      <th>kepoi_name</th>\n",
       "      <th>koi_disposition</th>\n",
       "      <th>koi_period</th>\n",
       "      <th>koi_period_err1</th>\n",
       "      <th>koi_period_err2</th>\n",
       "      <th>koi_time0bk</th>\n",
       "      <th>koi_time0bk_err1</th>\n",
       "      <th>koi_time0bk_err2</th>\n",
       "      <th>koi_impact</th>\n",
       "      <th>...</th>\n",
       "      <th>koi_slogg_err1</th>\n",
       "      <th>koi_slogg_err2</th>\n",
       "      <th>koi_srad</th>\n",
       "      <th>koi_srad_err1</th>\n",
       "      <th>koi_srad_err2</th>\n",
       "      <th>ra</th>\n",
       "      <th>dec</th>\n",
       "      <th>koi_kepmag</th>\n",
       "      <th>Predictions by SVM</th>\n",
       "      <th>Predictions by RF</th>\n",
       "    </tr>\n",
       "  </thead>\n",
       "  <tbody>\n",
       "    <tr>\n",
       "      <th>2</th>\n",
       "      <td>10811496</td>\n",
       "      <td>K00753.01</td>\n",
       "      <td>CANDIDATE</td>\n",
       "      <td>19.899140</td>\n",
       "      <td>1.490000e-05</td>\n",
       "      <td>-1.490000e-05</td>\n",
       "      <td>175.850252</td>\n",
       "      <td>0.000581</td>\n",
       "      <td>-0.000581</td>\n",
       "      <td>0.969</td>\n",
       "      <td>...</td>\n",
       "      <td>0.044</td>\n",
       "      <td>-0.176</td>\n",
       "      <td>0.868</td>\n",
       "      <td>0.233</td>\n",
       "      <td>-0.078</td>\n",
       "      <td>297.00482</td>\n",
       "      <td>48.134129</td>\n",
       "      <td>15.436</td>\n",
       "      <td>FALSE POSITIVE</td>\n",
       "      <td>CONFIRMED</td>\n",
       "    </tr>\n",
       "    <tr>\n",
       "      <th>37</th>\n",
       "      <td>11138155</td>\n",
       "      <td>K00760.01</td>\n",
       "      <td>CANDIDATE</td>\n",
       "      <td>4.959319</td>\n",
       "      <td>5.150000e-07</td>\n",
       "      <td>-5.150000e-07</td>\n",
       "      <td>172.258529</td>\n",
       "      <td>0.000083</td>\n",
       "      <td>-0.000083</td>\n",
       "      <td>0.831</td>\n",
       "      <td>...</td>\n",
       "      <td>0.110</td>\n",
       "      <td>-0.110</td>\n",
       "      <td>1.082</td>\n",
       "      <td>0.173</td>\n",
       "      <td>-0.130</td>\n",
       "      <td>292.16705</td>\n",
       "      <td>48.727589</td>\n",
       "      <td>15.263</td>\n",
       "      <td>CONFIRMED</td>\n",
       "      <td>CONFIRMED</td>\n",
       "    </tr>\n",
       "    <tr>\n",
       "      <th>58</th>\n",
       "      <td>11818800</td>\n",
       "      <td>K00777.01</td>\n",
       "      <td>CANDIDATE</td>\n",
       "      <td>40.419504</td>\n",
       "      <td>1.140000e-04</td>\n",
       "      <td>-1.140000e-04</td>\n",
       "      <td>173.564690</td>\n",
       "      <td>0.002220</td>\n",
       "      <td>-0.002220</td>\n",
       "      <td>0.911</td>\n",
       "      <td>...</td>\n",
       "      <td>0.116</td>\n",
       "      <td>-0.105</td>\n",
       "      <td>0.781</td>\n",
       "      <td>0.116</td>\n",
       "      <td>-0.095</td>\n",
       "      <td>294.31686</td>\n",
       "      <td>50.080231</td>\n",
       "      <td>15.487</td>\n",
       "      <td>FALSE POSITIVE</td>\n",
       "      <td>FALSE POSITIVE</td>\n",
       "    </tr>\n",
       "    <tr>\n",
       "      <th>62</th>\n",
       "      <td>11918099</td>\n",
       "      <td>K00780.02</td>\n",
       "      <td>CANDIDATE</td>\n",
       "      <td>7.240661</td>\n",
       "      <td>1.620000e-05</td>\n",
       "      <td>-1.620000e-05</td>\n",
       "      <td>137.755450</td>\n",
       "      <td>0.002000</td>\n",
       "      <td>-0.002000</td>\n",
       "      <td>1.198</td>\n",
       "      <td>...</td>\n",
       "      <td>0.012</td>\n",
       "      <td>-0.064</td>\n",
       "      <td>0.765</td>\n",
       "      <td>0.055</td>\n",
       "      <td>-0.028</td>\n",
       "      <td>293.83331</td>\n",
       "      <td>50.230350</td>\n",
       "      <td>15.334</td>\n",
       "      <td>FALSE POSITIVE</td>\n",
       "      <td>FALSE POSITIVE</td>\n",
       "    </tr>\n",
       "    <tr>\n",
       "      <th>63</th>\n",
       "      <td>9579641</td>\n",
       "      <td>K00115.03</td>\n",
       "      <td>CANDIDATE</td>\n",
       "      <td>3.435916</td>\n",
       "      <td>4.730000e-05</td>\n",
       "      <td>-4.730000e-05</td>\n",
       "      <td>132.662400</td>\n",
       "      <td>0.011000</td>\n",
       "      <td>-0.011000</td>\n",
       "      <td>0.624</td>\n",
       "      <td>...</td>\n",
       "      <td>0.132</td>\n",
       "      <td>-0.108</td>\n",
       "      <td>1.087</td>\n",
       "      <td>0.157</td>\n",
       "      <td>-0.142</td>\n",
       "      <td>287.88733</td>\n",
       "      <td>46.276241</td>\n",
       "      <td>12.791</td>\n",
       "      <td>CONFIRMED</td>\n",
       "      <td>CONFIRMED</td>\n",
       "    </tr>\n",
       "    <tr>\n",
       "      <th>...</th>\n",
       "      <td>...</td>\n",
       "      <td>...</td>\n",
       "      <td>...</td>\n",
       "      <td>...</td>\n",
       "      <td>...</td>\n",
       "      <td>...</td>\n",
       "      <td>...</td>\n",
       "      <td>...</td>\n",
       "      <td>...</td>\n",
       "      <td>...</td>\n",
       "      <td>...</td>\n",
       "      <td>...</td>\n",
       "      <td>...</td>\n",
       "      <td>...</td>\n",
       "      <td>...</td>\n",
       "      <td>...</td>\n",
       "      <td>...</td>\n",
       "      <td>...</td>\n",
       "      <td>...</td>\n",
       "      <td>...</td>\n",
       "      <td>...</td>\n",
       "    </tr>\n",
       "    <tr>\n",
       "      <th>9538</th>\n",
       "      <td>9938836</td>\n",
       "      <td>K07978.01</td>\n",
       "      <td>CANDIDATE</td>\n",
       "      <td>7.268182</td>\n",
       "      <td>1.640000e-04</td>\n",
       "      <td>-1.640000e-04</td>\n",
       "      <td>135.934800</td>\n",
       "      <td>0.023500</td>\n",
       "      <td>-0.023500</td>\n",
       "      <td>0.780</td>\n",
       "      <td>...</td>\n",
       "      <td>0.405</td>\n",
       "      <td>-0.135</td>\n",
       "      <td>2.219</td>\n",
       "      <td>0.536</td>\n",
       "      <td>-0.996</td>\n",
       "      <td>285.30768</td>\n",
       "      <td>46.829803</td>\n",
       "      <td>13.729</td>\n",
       "      <td>FALSE POSITIVE</td>\n",
       "      <td>FALSE POSITIVE</td>\n",
       "    </tr>\n",
       "    <tr>\n",
       "      <th>9542</th>\n",
       "      <td>10011213</td>\n",
       "      <td>K07982.01</td>\n",
       "      <td>CANDIDATE</td>\n",
       "      <td>376.379890</td>\n",
       "      <td>4.680000e-02</td>\n",
       "      <td>-4.680000e-02</td>\n",
       "      <td>486.602200</td>\n",
       "      <td>0.071100</td>\n",
       "      <td>-0.071100</td>\n",
       "      <td>0.305</td>\n",
       "      <td>...</td>\n",
       "      <td>0.054</td>\n",
       "      <td>-0.216</td>\n",
       "      <td>0.955</td>\n",
       "      <td>0.291</td>\n",
       "      <td>-0.097</td>\n",
       "      <td>291.60455</td>\n",
       "      <td>46.973289</td>\n",
       "      <td>15.632</td>\n",
       "      <td>FALSE POSITIVE</td>\n",
       "      <td>FALSE POSITIVE</td>\n",
       "    </tr>\n",
       "    <tr>\n",
       "      <th>9552</th>\n",
       "      <td>10028127</td>\n",
       "      <td>K08193.01</td>\n",
       "      <td>CANDIDATE</td>\n",
       "      <td>367.947848</td>\n",
       "      <td>4.790000e-03</td>\n",
       "      <td>-4.790000e-03</td>\n",
       "      <td>416.209980</td>\n",
       "      <td>0.009720</td>\n",
       "      <td>-0.009720</td>\n",
       "      <td>0.902</td>\n",
       "      <td>...</td>\n",
       "      <td>0.030</td>\n",
       "      <td>-0.170</td>\n",
       "      <td>0.855</td>\n",
       "      <td>0.207</td>\n",
       "      <td>-0.069</td>\n",
       "      <td>297.73398</td>\n",
       "      <td>46.961529</td>\n",
       "      <td>15.719</td>\n",
       "      <td>FALSE POSITIVE</td>\n",
       "      <td>FALSE POSITIVE</td>\n",
       "    </tr>\n",
       "    <tr>\n",
       "      <th>9560</th>\n",
       "      <td>10128825</td>\n",
       "      <td>K07986.01</td>\n",
       "      <td>CANDIDATE</td>\n",
       "      <td>1.739849</td>\n",
       "      <td>1.780000e-05</td>\n",
       "      <td>-1.780000e-05</td>\n",
       "      <td>133.001270</td>\n",
       "      <td>0.007690</td>\n",
       "      <td>-0.007690</td>\n",
       "      <td>0.043</td>\n",
       "      <td>...</td>\n",
       "      <td>0.056</td>\n",
       "      <td>-0.224</td>\n",
       "      <td>1.031</td>\n",
       "      <td>0.341</td>\n",
       "      <td>-0.114</td>\n",
       "      <td>286.50937</td>\n",
       "      <td>47.163219</td>\n",
       "      <td>14.757</td>\n",
       "      <td>FALSE POSITIVE</td>\n",
       "      <td>FALSE POSITIVE</td>\n",
       "    </tr>\n",
       "    <tr>\n",
       "      <th>9562</th>\n",
       "      <td>10155286</td>\n",
       "      <td>K07988.01</td>\n",
       "      <td>CANDIDATE</td>\n",
       "      <td>333.486169</td>\n",
       "      <td>4.240000e-03</td>\n",
       "      <td>-4.240000e-03</td>\n",
       "      <td>153.615010</td>\n",
       "      <td>0.005070</td>\n",
       "      <td>-0.005070</td>\n",
       "      <td>0.214</td>\n",
       "      <td>...</td>\n",
       "      <td>0.030</td>\n",
       "      <td>-0.027</td>\n",
       "      <td>7.824</td>\n",
       "      <td>0.223</td>\n",
       "      <td>-1.896</td>\n",
       "      <td>296.76288</td>\n",
       "      <td>47.145142</td>\n",
       "      <td>10.998</td>\n",
       "      <td>FALSE POSITIVE</td>\n",
       "      <td>FALSE POSITIVE</td>\n",
       "    </tr>\n",
       "  </tbody>\n",
       "</table>\n",
       "<p>2418 rows × 41 columns</p>\n",
       "</div>"
      ],
      "text/plain": [
       "         kepid kepoi_name koi_disposition  koi_period  koi_period_err1  \\\n",
       "2     10811496  K00753.01       CANDIDATE   19.899140     1.490000e-05   \n",
       "37    11138155  K00760.01       CANDIDATE    4.959319     5.150000e-07   \n",
       "58    11818800  K00777.01       CANDIDATE   40.419504     1.140000e-04   \n",
       "62    11918099  K00780.02       CANDIDATE    7.240661     1.620000e-05   \n",
       "63     9579641  K00115.03       CANDIDATE    3.435916     4.730000e-05   \n",
       "...        ...        ...             ...         ...              ...   \n",
       "9538   9938836  K07978.01       CANDIDATE    7.268182     1.640000e-04   \n",
       "9542  10011213  K07982.01       CANDIDATE  376.379890     4.680000e-02   \n",
       "9552  10028127  K08193.01       CANDIDATE  367.947848     4.790000e-03   \n",
       "9560  10128825  K07986.01       CANDIDATE    1.739849     1.780000e-05   \n",
       "9562  10155286  K07988.01       CANDIDATE  333.486169     4.240000e-03   \n",
       "\n",
       "      koi_period_err2  koi_time0bk  koi_time0bk_err1  koi_time0bk_err2  \\\n",
       "2       -1.490000e-05   175.850252          0.000581         -0.000581   \n",
       "37      -5.150000e-07   172.258529          0.000083         -0.000083   \n",
       "58      -1.140000e-04   173.564690          0.002220         -0.002220   \n",
       "62      -1.620000e-05   137.755450          0.002000         -0.002000   \n",
       "63      -4.730000e-05   132.662400          0.011000         -0.011000   \n",
       "...               ...          ...               ...               ...   \n",
       "9538    -1.640000e-04   135.934800          0.023500         -0.023500   \n",
       "9542    -4.680000e-02   486.602200          0.071100         -0.071100   \n",
       "9552    -4.790000e-03   416.209980          0.009720         -0.009720   \n",
       "9560    -1.780000e-05   133.001270          0.007690         -0.007690   \n",
       "9562    -4.240000e-03   153.615010          0.005070         -0.005070   \n",
       "\n",
       "      koi_impact  ...  koi_slogg_err1  koi_slogg_err2  koi_srad  \\\n",
       "2          0.969  ...           0.044          -0.176     0.868   \n",
       "37         0.831  ...           0.110          -0.110     1.082   \n",
       "58         0.911  ...           0.116          -0.105     0.781   \n",
       "62         1.198  ...           0.012          -0.064     0.765   \n",
       "63         0.624  ...           0.132          -0.108     1.087   \n",
       "...          ...  ...             ...             ...       ...   \n",
       "9538       0.780  ...           0.405          -0.135     2.219   \n",
       "9542       0.305  ...           0.054          -0.216     0.955   \n",
       "9552       0.902  ...           0.030          -0.170     0.855   \n",
       "9560       0.043  ...           0.056          -0.224     1.031   \n",
       "9562       0.214  ...           0.030          -0.027     7.824   \n",
       "\n",
       "      koi_srad_err1  koi_srad_err2         ra        dec  koi_kepmag  \\\n",
       "2             0.233         -0.078  297.00482  48.134129      15.436   \n",
       "37            0.173         -0.130  292.16705  48.727589      15.263   \n",
       "58            0.116         -0.095  294.31686  50.080231      15.487   \n",
       "62            0.055         -0.028  293.83331  50.230350      15.334   \n",
       "63            0.157         -0.142  287.88733  46.276241      12.791   \n",
       "...             ...            ...        ...        ...         ...   \n",
       "9538          0.536         -0.996  285.30768  46.829803      13.729   \n",
       "9542          0.291         -0.097  291.60455  46.973289      15.632   \n",
       "9552          0.207         -0.069  297.73398  46.961529      15.719   \n",
       "9560          0.341         -0.114  286.50937  47.163219      14.757   \n",
       "9562          0.223         -1.896  296.76288  47.145142      10.998   \n",
       "\n",
       "      Predictions by SVM  Predictions by RF  \n",
       "2         FALSE POSITIVE          CONFIRMED  \n",
       "37             CONFIRMED          CONFIRMED  \n",
       "58        FALSE POSITIVE     FALSE POSITIVE  \n",
       "62        FALSE POSITIVE     FALSE POSITIVE  \n",
       "63             CONFIRMED          CONFIRMED  \n",
       "...                  ...                ...  \n",
       "9538      FALSE POSITIVE     FALSE POSITIVE  \n",
       "9542      FALSE POSITIVE     FALSE POSITIVE  \n",
       "9552      FALSE POSITIVE     FALSE POSITIVE  \n",
       "9560      FALSE POSITIVE     FALSE POSITIVE  \n",
       "9562      FALSE POSITIVE     FALSE POSITIVE  \n",
       "\n",
       "[2418 rows x 41 columns]"
      ]
     },
     "execution_count": 114,
     "metadata": {},
     "output_type": "execute_result"
    }
   ],
   "source": [
    "# Created a variable that will contain 'CANDIDATE' only dataset without object data types\n",
    "kep_can_val = kep_can.drop(['kepid','kepoi_name','koi_disposition'], axis=1)\n",
    "\n",
    "# Created variable with tuned model predictions of the 'CANDIDATES'\n",
    "svcr = best_clf_svc.predict(kep_can_val)\n",
    "rfr = best_clf_rf.predict(kep_can_val)\n",
    "\n",
    "# Creating a new columnn on the 'CANDIDATE' only dataset with the models predictions \n",
    "kep_can['Predictions by SVM'] = svcr\n",
    "kep_can['Predictions by RF'] = rfr\n",
    " \n",
    "kep_can"
   ]
  },
  {
   "cell_type": "code",
   "execution_count": 115,
   "metadata": {},
   "outputs": [
    {
     "data": {
      "image/png": "[encoded data removed]",
      "text/plain": [
       "<Figure size 432x288 with 2 Axes>"
      ]
     },
     "metadata": {
      "needs_background": "light"
     },
     "output_type": "display_data"
    }
   ],
   "source": [
    "# Create a countplot of classification \n",
    "fig, ax =plt.subplots(1,2)\n",
    "sns.countplot(kep_can['Predictions by SVM'], ax=ax[0],palette='coolwarm')\n",
    "sns.countplot(kep_can['Predictions by RF'], ax=ax[1], palette='coolwarm')\n",
    "plt.tight_layout()\n",
    "sns.despine()"
   ]
  },
  {
   "cell_type": "code",
   "execution_count": 116,
   "metadata": {},
   "outputs": [
    {
     "name": "stdout",
     "output_type": "stream",
     "text": [
      "Predictions by SVM:  910\n",
      "Predictions by RF:  818\n"
     ]
    }
   ],
   "source": [
    "print('Predictions by SVM: ', sum(kep_can['Predictions by SVM'] == 'CONFIRMED'))\n",
    "print('Predictions by RF: ', sum(kep_can['Predictions by RF'] == 'CONFIRMED'))"
   ]
  },
  {
   "cell_type": "markdown",
   "metadata": {},
   "source": [
    "# Conclusion\n",
    "\n",
    "Under normal circumstances I would only report one model, whether it be an ensemble of models or one classification model but I was curious on what my best two models would predict and how differnet they were when it comes to predicting unseen candidate data.\n",
    "* SVC predicted there would be 910 potential earth-sized and smaller within the habitable zone\n",
    "* Random Forest prediced there would be 818 potential earthh-sized and smaller within the habitable zone\n"
   ]
  },
  {
   "cell_type": "markdown",
   "metadata": {},
   "source": [
    "# Final thoughts \n",
    "\n",
    "In this project, I've built miltiple models to predict whether the candidate exoplanet is earth-size or smaller and is in the habitable zone or not. Since this is a Classification problem, the models and final **recall** performance on the **testset only** was;\n",
    "* Logistic Regression (86%)\n",
    "* KNN (89%)\n",
    "* Random Forest (90%)\n",
    "* SVM (91%)\n",
    "\n",
    "As you can see, the best performing model was SVM & Random Foresting. In general, models can be further improved by:\n",
    "* Getting more data \n",
    "* Balance the target values by undersampling the 'FALSE POSITIVES'\n",
    "\n",
    "There are many things I could learn such as but not limited to:\n",
    "* Learning Other models \n",
    "    * Naive Bayes\n",
    "    * Extreme Gradiant boosting \n",
    "* Apply ensemble approach (use a combination of different models)"
   ]
  }
 ],
 "metadata": {
  "kernelspec": {
   "display_name": "Python 3",
   "language": "python",
   "name": "python3"
  },
  "language_info": {
   "codemirror_mode": {
    "name": "ipython",
    "version": 3
   },
   "file_extension": ".py",
   "mimetype": "text/x-python",
   "name": "python",
   "nbconvert_exporter": "python",
   "pygments_lexer": "ipython3",
   "version": "3.7.6"
  }
 },
 "nbformat": 4,
 "nbformat_minor": 4
}
